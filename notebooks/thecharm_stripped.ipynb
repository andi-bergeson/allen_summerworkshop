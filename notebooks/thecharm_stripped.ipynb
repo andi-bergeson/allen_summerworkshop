{
 "cells": [
  {
   "cell_type": "code",
   "execution_count": null,
   "id": "a522b4dd-c613-4fbd-b995-077e5da06340",
   "metadata": {},
   "outputs": [],
   "source": [
    "from caveclient import CAVEclient\n",
    "import pandas as pd\n",
    "import numpy as np\n",
    "from matplotlib import pyplot as plt\n",
    "import seaborn as sns\n",
    "import statsmodels as sm\n",
    "from statsmodels.stats import proportion\n",
    "%matplotlib inline"
   ]
  },
  {
   "cell_type": "code",
   "execution_count": null,
   "id": "5677b479-2708-4492-8a02-5f6ace45afff",
   "metadata": {},
   "outputs": [],
   "source": [
    "def class_spitter(df):\n",
    "    classes = np.unique(df.classification_system)\n",
    "    cellarray = []\n",
    "    for i in range(len(classes)):\n",
    "        new = df.query(f\"classification_system in @classes[{i}]\")\n",
    "        cellarray.append(new)\n",
    "    return cellarray\n",
    "\n",
    "def type_spitter(df):\n",
    "    types = np.unique(df.cell_type)\n",
    "    cellarray = []\n",
    "    for i in range(len(types)):\n",
    "        new = df.query(f\"cell_type in @types[{i}]\")\n",
    "        cellarray.append(new)\n",
    "    return cellarray"
   ]
  },
  {
   "cell_type": "code",
   "execution_count": null,
   "id": "34b37bf0-b13f-43cf-992d-417ea3a7aee5",
   "metadata": {},
   "outputs": [],
   "source": [
    "def Eucdistance_split(pre,post):\n",
    "    x_pre,y_pre,z_pre = np.array(pre.pt_position_x)*4,np.array(pre.pt_position_y)*4,np.array(pre.pt_position_z)*40\n",
    "    x_pos,y_pos,z_pos = np.array(post.pt_position_x)*4,np.array(post.pt_position_y)*4,np.array(post.pt_position_z)*40\n",
    "    d = np.zeros(len(post))\n",
    "    for i in range(len(post)):\n",
    "        # divide by 1000 to convert to microns\n",
    "        d[i] = np.sqrt((x_pre-x_pos[i])**2 + (y_pre-y_pos[i])**2 + (z_pre-z_pos[i])**2) / 1000.\n",
    "    return d\n",
    "\n",
    "def Raddistance_split(pre,post):\n",
    "    x_pre,z_pre = np.array(pre.pt_position_x)*4,np.array(pre.pt_position_z)*40\n",
    "    x_pos,z_pos = np.array(post.pt_position_x)*4,np.array(post.pt_position_z)*40\n",
    "    d = np.zeros(len(post))\n",
    "    for i in range(len(post)):\n",
    "        # divide by 1000 to convert to microns\n",
    "        d[i] = np.sqrt((x_pre-x_pos[i])**2 + (z_pre-z_pos[i])**2) / 1000.\n",
    "    return d"
   ]
  },
  {
   "cell_type": "code",
   "execution_count": null,
   "id": "b9f45787-b396-4b85-858f-59952302fbdf",
   "metadata": {},
   "outputs": [],
   "source": [
    "def binomial_CI(df, bins):\n",
    "    fail = []\n",
    "    success = []\n",
    "    # this makes sure my arrays are the same size - also no cells are less than 0 microns away\n",
    "    fail.append(0)\n",
    "    success.append(0)\n",
    "    for i in range(len(bins)-1):\n",
    "        # masking for specific distance bin\n",
    "        masked_df = df[(df['r'] < bins[i+1]) & (df['r'] > bins[i])].reset_index(drop=True)\n",
    "        # starting the counter\n",
    "        f,s = 0,0\n",
    "#         if len(masked_df) == 0:\n",
    "#             print(\"this shit empty\")\n",
    "        for j in range(len(masked_df)):\n",
    "            if masked_df['pre_pt_root_id'][j] == 0:\n",
    "                f += 1\n",
    "            else:\n",
    "                s += 1\n",
    "        fail.append(f)\n",
    "        success.append(s)\n",
    "    return np.array(fail),np.array(success)"
   ]
  },
  {
   "cell_type": "code",
   "execution_count": null,
   "id": "f5e89f2e-6505-4fe1-96b1-63317f1cc489",
   "metadata": {},
   "outputs": [],
   "source": [
    "client = CAVEclient(global_only=True)\n",
    "# https://annotationframeworkclient.readthedocs.io/en/stable/guide/authentication.html#new-token\n",
    "client = CAVEclient('minnie65_phase3_v1')"
   ]
  },
  {
   "cell_type": "code",
   "execution_count": null,
   "id": "815ac3c4-4000-477d-a4b8-0451af6a24cd",
   "metadata": {},
   "outputs": [],
   "source": [
    "df = client.materialize.query_table('allen_v1_column_types_slanted',split_positions=True)"
   ]
  },
  {
   "cell_type": "code",
   "execution_count": null,
   "id": "6e566c97-63d9-4265-b749-7f844ab141d1",
   "metadata": {},
   "outputs": [],
   "source": [
    "# start cell\n",
    "root_id = [864691135428608048]\n",
    "boy = df.query(\"pt_root_id in @root_id\")\n",
    "# post-synaptic partners of starter cell\n",
    "syn_unfiltered = client.materialize.query_table('synapses_pni_2',filter_equal_dict={'pre_pt_root_id':np.array(boy.pt_root_id)[0]})"
   ]
  },
  {
   "cell_type": "code",
   "execution_count": null,
   "id": "957c9603-7309-4de4-91fb-22d0267a391b",
   "metadata": {},
   "outputs": [],
   "source": [
    "correct_soma_table = client.info.get_datastack_info()['soma_table']\n",
    "nuclei_unmasked = client.materialize.query_table(correct_soma_table,split_positions=True)\n",
    "# new df of just neurons (no glial cells)\n",
    "nuclei = nuclei_unmasked.query('cell_type == \"neuron\"').reset_index(drop=True)\n",
    "# new column saying how many neurons have the same root_id\n",
    "nuclei['num_soma'] = nuclei.groupby('pt_root_id').transform('count')['valid']\n",
    "# mask the df to throw out merged nuclei (same root_id being assigned to multiple neurons)\n",
    "mask_nuclei = nuclei['num_soma'] < 2\n",
    "nuclei_full = nuclei[mask_nuclei].reset_index(drop=True)"
   ]
  },
  {
   "cell_type": "code",
   "execution_count": null,
   "id": "4ae7cdf3-6c01-41c3-938e-f6eec2dfdaa4",
   "metadata": {},
   "outputs": [],
   "source": [
    "unique_nuc = np.unique(nuclei_full.pt_root_id)\n",
    "soma_full = client.materialize.query_table('allen_soma_coarse_cell_class_model_v1',filter_in_dict = {'pt_root_id':unique_nuc},\n",
    "                                          split_positions=True)"
   ]
  },
  {
   "cell_type": "code",
   "execution_count": null,
   "id": "46f493a9-16c0-46f8-9685-e0790fdb6759",
   "metadata": {},
   "outputs": [],
   "source": [
    "syn_nuc = syn_unfiltered.query(\"post_pt_root_id in @unique_nuc\").reset_index(drop=True)"
   ]
  },
  {
   "cell_type": "code",
   "execution_count": null,
   "id": "9cf5a67a-b16e-417b-8d63-0c31b668bc91",
   "metadata": {},
   "outputs": [],
   "source": [
    "syn_nuc['num_syn'] = syn_nuc.groupby('post_pt_root_id').transform('count')['valid']"
   ]
  },
  {
   "cell_type": "code",
   "execution_count": null,
   "id": "b9707992-cab7-40f8-bcb8-58baa700bb4d",
   "metadata": {},
   "outputs": [],
   "source": [
    "syn_nuc.rename(columns={'post_pt_root_id':'pt_root_id'}, inplace=True)"
   ]
  },
  {
   "cell_type": "code",
   "execution_count": null,
   "id": "da7d59a4-a905-4dd1-be11-af1f907694a8",
   "metadata": {},
   "outputs": [],
   "source": [
    "main_duplicates = pd.merge(soma_full,syn_nuc,on='pt_root_id',how='outer')[0:61847] # any cells after 61847 are not in the soma table\n",
    "new_left = pd.merge(soma_full,syn_nuc,on='pt_root_id',how='left')\n",
    "main = new_left.drop_duplicates(subset='pt_root_id', keep='first').reset_index(drop=True)\n",
    "# groupby('pt_root_id') ag function, list synapse positions"
   ]
  },
  {
   "cell_type": "code",
   "execution_count": null,
   "id": "dfaa3222-1940-440f-b40e-871461f17c0d",
   "metadata": {},
   "outputs": [],
   "source": [
    "main = main.drop(columns=['id_y', 'valid_y', 'pre_pt_supervoxel_id', 'post_pt_supervoxel_id', \n",
    "                          'pre_pt_position', 'post_pt_position'])"
   ]
  },
  {
   "cell_type": "code",
   "execution_count": null,
   "id": "9086df86-2349-4cea-8c02-923cb8bff804",
   "metadata": {},
   "outputs": [],
   "source": [
    "main = main.fillna(0)"
   ]
  },
  {
   "cell_type": "code",
   "execution_count": null,
   "id": "fa638e4f-bcb9-4e9e-a1e2-8cda59f3ae5b",
   "metadata": {},
   "outputs": [],
   "source": [
    "main['d'] = Eucdistance_split(boy,main)\n",
    "main['r'] = Raddistance_split(boy,main)"
   ]
  },
  {
   "cell_type": "code",
   "execution_count": null,
   "id": "0e692f8b-ead2-4adf-8650-2b02ee6c3574",
   "metadata": {},
   "outputs": [],
   "source": [
    "unique_syn_nuc = np.unique(syn_nuc.pt_root_id)\n",
    "syn = main.query('pt_root_id in @unique_syn_nuc')\n",
    "nonsyn = main.query('pt_root_id not in @unique_syn_nuc')"
   ]
  },
  {
   "cell_type": "code",
   "execution_count": null,
   "id": "b5555602-6697-4021-ba09-8e0519ca9beb",
   "metadata": {},
   "outputs": [],
   "source": [
    "syn_class = class_spitter(syn)\n",
    "nonsyn_class = class_spitter(nonsyn)\n",
    "\n",
    "main_types = type_spitter(main)\n",
    "syn_types = type_spitter(syn)\n",
    "nonsyn_types = type_spitter(nonsyn)"
   ]
  },
  {
   "cell_type": "code",
   "execution_count": null,
   "id": "d35dafa9-877e-44c0-b17b-36bbb214d881",
   "metadata": {},
   "outputs": [],
   "source": [
    "r_interval = 25\n",
    "upper_distance_limit = 400\n",
    "bins_25 = np.array(range(0,upper_distance_limit,r_interval))\n",
    "f,s = binomial_CI(main,bins_25)\n",
    "# f_stack = np.stack((f,bins_25))\n",
    "# s_stack = np.stack((s,bins_25))"
   ]
  },
  {
   "cell_type": "code",
   "execution_count": null,
   "id": "67bda60c-460c-4678-90af-47beee7e648a",
   "metadata": {},
   "outputs": [],
   "source": [
    "f_type,s_type = [],[]\n",
    "for i in range(len(main_types)):\n",
    "    f,s = binomial_CI(main_types[i],bins_25)\n",
    "    f_type.append(f)\n",
    "    s_type.append(s)"
   ]
  },
  {
   "cell_type": "code",
   "execution_count": null,
   "id": "d43a7150-4e46-410d-bfda-a4fcd95fd4b3",
   "metadata": {},
   "outputs": [],
   "source": [
    "# perc = []\n",
    "# for i in range(len(f)):\n",
    "#     if s[i] > 0:\n",
    "#         p = s[i]/(s[i]+f[i])\n",
    "#         perc.append(p)\n",
    "#     else:\n",
    "#         perc.append(0)"
   ]
  },
  {
   "cell_type": "code",
   "execution_count": null,
   "id": "9a9d5b70-92c5-43e4-a4b0-de25c5dd73fc",
   "metadata": {},
   "outputs": [],
   "source": [
    "import warnings\n",
    "warnings.filterwarnings('ignore')\n",
    "\n",
    "fig, ax = plt.subplots(11,3)\n",
    "fig.set_size_inches(12,26)\n",
    "\n",
    "unique_types = np.unique(main.cell_type)\n",
    "x = bins_25-(r_interval/2)\n",
    "for i in range(len(unique_types)):\n",
    "    sns.scatterplot(x=nonsyn_types[i].pt_position_x*(4/1000), y=nonsyn_types[i].pt_position_z*(40/1000), \n",
    "                    ax=ax[i,0], color='grey', alpha=.4, s=10)\n",
    "    sns.scatterplot(x=syn_types[i].pt_position_x*(4/1000), y=syn_types[i].pt_position_z*(40/1000), \n",
    "                    ax=ax[i,0], color='b', alpha=.8, s=10).set_xlabel(r'$\\mu$m')\n",
    "    sns.scatterplot(x=boy.pt_position_x*(4/1000), y=boy.pt_position_z*(40/1000), marker='*',color='r',s=200,\n",
    "                    ax=ax[i,0]).set_ylabel(unique_types[i], fontsize=16)\n",
    "    xrange = [int(boy.pt_position_x*(4/1000))-250,int(boy.pt_position_x*(4/1000))+250]\n",
    "    yrange = [int(boy.pt_position_z*(40/1000))-250,int(boy.pt_position_z*(40/1000))+250]\n",
    "    ax[i,0].set_xlim(xrange[0],xrange[1])\n",
    "    ax[i,0].set_ylim(yrange[0],yrange[1])\n",
    "    ax[i,0].set_aspect('equal')\n",
    "    \n",
    "    method = 'wilson'\n",
    "    errorbars = sm.stats.proportion.proportion_confint(s_type[i],nobs=(s_type[i]+f_type[i]),method=method)\n",
    "    probability = (s_type[i]/(f_type[i]+s_type[i]))\n",
    "    ax[i,1].scatter(x=x, y=probability)\n",
    "    ax[i,1].errorbar(x=x, y=probability, yerr=(probability-errorbars[0],errorbars[1]-probability), fmt='-o') \n",
    "    ax[i,1].set_xlabel(r'$\\mu$m (radial)', fontsize=10)\n",
    "    ax[i,1].set_ylabel(\"Probability of Connection\", fontsize=10)\n",
    "    ax[i,1].set_ylim(-0.1,1.)\n",
    "    ax[i,1].grid()\n",
    "        \n",
    "    ax[i,2].hist(x,bins=len(bins_25),weights=f_type[i]+s_type[i],density=False,label='Non-Synaptic', color='grey')\n",
    "    ax[i,2].hist(x,bins=len(bins_25),weights=s_type[i],density=False,label='Synaptic', color='blue')\n",
    "    ax[i,2].set_yscale('log')\n",
    "    ax[i,2].set_xlabel(r'$\\mu$m (radial)', fontsize=10)\n",
    "    ax[i,2].set_xlim(-10,(max(bins_25)+10))\n",
    "    ax[i,2].grid()\n",
    "    ax[i,2].set_ylabel(\"Log Frequency\", fontsize=10)\n",
    "\n",
    "fig.tight_layout()\n",
    "fig.savefig('blah.pdf')\n",
    "#plt.show()"
   ]
  },
  {
   "cell_type": "code",
   "execution_count": null,
   "id": "418627a0-0f4f-4a70-9ce7-69543b6c0609",
   "metadata": {},
   "outputs": [],
   "source": [
    "# warnings.filterwarnings('ignore')\n",
    "\n",
    "# #fig, ax = plt.subplots(9,4)\n",
    "# #fig.set_size_inches(15,22)\n",
    "\n",
    "# unique_types = np.unique(main.cell_type)\n",
    "# x = bins_25-(r_interval/2)\n",
    "# for i in range(len(unique_types)):\n",
    "#     if i < 4:\n",
    "#         ax[0,i].set_title(unique_types[i], fontsize=18)\n",
    "        \n",
    "#         sns.scatterplot(x=nonsyn_types[i].pt_position_x*(4/1000), y=nonsyn_types[i].pt_position_z*(40/1000), \n",
    "#                         ax=ax[0,i], color='grey', alpha=.4).set_ylabel(r'$\\mu$m')\n",
    "#         sns.scatterplot(x=syn_types[i].pt_position_x*(4/1000), y=syn_types[i].pt_position_z*(40/1000), \n",
    "#                         ax=ax[0,i], color='b', alpha=.8).set_xlabel(r'$\\mu$m')\n",
    "#         sns.scatterplot(x=boy.pt_position_x*(4/1000), y=boy.pt_position_z*(40/1000), marker='*',color='r',s=200,\n",
    "#                         ax=ax[0,i])#.set_ylabel(unique_types[i], fontsize=16)\n",
    "#         xrange = [int(boy.pt_position_x*(4/1000))-250,int(boy.pt_position_x*(4/1000))+250]\n",
    "#         yrange = [int(boy.pt_position_z*(40/1000))-250,int(boy.pt_position_z*(40/1000))+250]\n",
    "#         ax[0,i].set_xlim(xrange[0],xrange[1])\n",
    "#         ax[0,i].set_ylim(yrange[0],yrange[1])\n",
    "#         ax[0,i].set_aspect('equal')\n",
    "\n",
    "#         errorbars = sm.stats.proportion.proportion_confint(s_type[i],nobs=(s_type[i])+f_type[i])\n",
    "#         probability = (s_type[i]/(f_type[i]+s_type[i]))\n",
    "#         ax[1,i].scatter(x=x, y=probability)\n",
    "#         ax[1,i].errorbar(x=x, y=probability, yerr=(errorbars[0]-probability,probability-errorbars[1]), fmt='-o') \n",
    "#         ax[1,i].set_xlabel(r'$\\mu$m (radial)', fontsize=10)\n",
    "#         ax[1,i].set_ylabel(\"Probability of Connection\", fontsize=10)\n",
    "#         ax[1,i].set_ylim(-0.1,1.)\n",
    "#         ax[1,i].grid()\n",
    "\n",
    "#         ax[2,i].hist(x,bins=len(bins_25),weights=f_type[i]+s_type[i],density=False,label='Non-Synaptic', color='grey')\n",
    "#         ax[2,i].hist(x,bins=len(bins_25),weights=s_type[i],density=False,label='Synaptic', color='blue')\n",
    "#         ax[2,i].set_yscale('log')\n",
    "#         ax[2,i].set_xlabel(r'$\\mu$m (radial)', fontsize=10)\n",
    "#         ax[2,i].set_xlim(-10,(max(bins_25)+10))\n",
    "#         ax[2,i].grid()\n",
    "#         ax[2,i].set_ylabel(\"Log Frequency\", fontsize=10)\n",
    "#     if 4 <= i < 8:\n",
    "#         ax[3,i-4].set_title(unique_types[i], fontsize=18)\n",
    "        \n",
    "#         sns.scatterplot(x=nonsyn_types[i].pt_position_x*(4/1000), y=nonsyn_types[i].pt_position_z*(40/1000), \n",
    "#                         ax=ax[3,i-4], color='grey', alpha=.4).set_ylabel(r'$\\mu$m')\n",
    "#         sns.scatterplot(x=syn_types[i].pt_position_x*(4/1000), y=syn_types[i].pt_position_z*(40/1000), \n",
    "#                         ax=ax[3,i-4], color='b', alpha=.8).set_xlabel(r'$\\mu$m')\n",
    "#         sns.scatterplot(x=boy.pt_position_x*(4/1000), y=boy.pt_position_z*(40/1000), marker='*',color='r',s=200,\n",
    "#                         ax=ax[3,i-4])#.set_ylabel(unique_types[i], fontsize=16)\n",
    "#         xrange = [int(boy.pt_position_x*(4/1000))-250,int(boy.pt_position_x*(4/1000))+250]\n",
    "#         yrange = [int(boy.pt_position_z*(40/1000))-250,int(boy.pt_position_z*(40/1000))+250]\n",
    "#         ax[3,i-4].set_xlim(xrange[0],xrange[1])\n",
    "#         ax[3,i-4].set_ylim(yrange[0],yrange[1])\n",
    "#         ax[3,i-4].set_aspect('equal')\n",
    "\n",
    "#         errorbars = sm.stats.proportion.proportion_confint(s_type[i],nobs=(s_type[i])+f_type[i])\n",
    "#         probability = (s_type[i]/(f_type[i]+s_type[i]))\n",
    "#         ax[4,i-4].scatter(x=x, y=probability)\n",
    "#         ax[4,i-4].errorbar(x=x, y=probability, yerr=(errorbars[0]-probability,probability-errorbars[1]), fmt='-o') \n",
    "#         ax[4,i-4].set_xlabel(r'$\\mu$m (radial)', fontsize=10)\n",
    "#         ax[4,i-4].set_ylabel(\"Probability of Connection\", fontsize=10)\n",
    "#         ax[4,i-4].set_ylim(-0.1,1.)\n",
    "#         ax[4,i-4].grid()\n",
    "\n",
    "#         ax[5,i-4].hist(x,bins=len(bins_25),weights=f_type[i]+s_type[i],density=False,label='Non-Synaptic', color='grey')\n",
    "#         ax[5,i-4].hist(x,bins=len(bins_25),weights=s_type[i],density=False,label='Synaptic', color='blue')\n",
    "#         ax[5,i-4].set_yscale('log')\n",
    "#         ax[5,i-4].set_xlabel(r'$\\mu$m (radial)', fontsize=10)\n",
    "#         ax[5,i-4].set_xlim(-10,(max(bins_25)+10))\n",
    "#         ax[5,i-4].grid()\n",
    "#         ax[5,i-4].set_ylabel(\"Log Frequency\", fontsize=10)\n",
    "#     if 8 <= i < 12:\n",
    "#         ax[6,i-8].set_title(unique_types[i], fontsize=18)\n",
    "        \n",
    "#         sns.scatterplot(x=nonsyn_types[i].pt_position_x*(4/1000), y=nonsyn_types[i].pt_position_z*(40/1000), \n",
    "#                         ax=ax[6,i-8], color='grey', alpha=.4).set_ylabel(r'$\\mu$m')\n",
    "#         sns.scatterplot(x=syn_types[i].pt_position_x*(4/1000), y=syn_types[i].pt_position_z*(40/1000), \n",
    "#                         ax=ax[6,i-8], color='b', alpha=.8).set_xlabel(r'$\\mu$m')\n",
    "#         sns.scatterplot(x=boy.pt_position_x*(4/1000), y=boy.pt_position_z*(40/1000), marker='*',color='r',s=200,\n",
    "#                         ax=ax[6,i-8])#.set_ylabel(unique_types[i], fontsize=16)\n",
    "#         xrange = [int(boy.pt_position_x*(4/1000))-250,int(boy.pt_position_x*(4/1000))+250]\n",
    "#         yrange = [int(boy.pt_position_z*(40/1000))-250,int(boy.pt_position_z*(40/1000))+250]\n",
    "#         ax[6,i-8].set_xlim(xrange[0],xrange[1])\n",
    "#         ax[6,i-8].set_ylim(yrange[0],yrange[1])\n",
    "#         ax[6,i-8].set_aspect('equal')\n",
    "\n",
    "#         errorbars = sm.stats.proportion.proportion_confint(s_type[i],nobs=(s_type[i])+f_type[i])\n",
    "#         probability = (s_type[i]/(f_type[i]+s_type[i]))\n",
    "#         ax[7,i-8].scatter(x=x, y=probability)\n",
    "#         ax[7,i-8].errorbar(x=x, y=probability, yerr=(errorbars[0]-probability,probability-errorbars[1]), fmt='-o') \n",
    "#         ax[7,i-8].set_xlabel(r'$\\mu$m (radial)', fontsize=10)\n",
    "#         ax[7,i-8].set_ylabel(\"Probability of Connection\", fontsize=10)\n",
    "#         ax[7,i-8].set_ylim(-0.1,1.)\n",
    "#         ax[7,i-8].grid()\n",
    "\n",
    "#         ax[8,i-8].hist(x,bins=len(bins_25),weights=f_type[i]+s_type[i],density=False,label='Non-Synaptic', color='grey')\n",
    "#         ax[8,i-8].hist(x,bins=len(bins_25),weights=s_type[i],density=False,label='Synaptic', color='blue')\n",
    "#         ax[8,i-8].set_yscale('log')\n",
    "#         ax[8,i-8].set_xlabel(r'$\\mu$m (radial)', fontsize=10)\n",
    "#         ax[8,i-8].set_xlim(-10,(max(bins_25)+10))\n",
    "#         ax[8,i-8].grid()\n",
    "#         ax[8,i-8].set_ylabel(\"Log Frequency\", fontsize=10)\n",
    "    \n",
    "\n",
    "#fig.tight_layout()\n",
    "#fig.savefig('blahdiff.pdf')\n",
    "#plt.show()"
   ]
  },
  {
   "cell_type": "code",
   "execution_count": null,
   "id": "635bde2a-b0bd-4afa-851a-0b0f54a6abd0",
   "metadata": {},
   "outputs": [],
   "source": []
  },
  {
   "cell_type": "code",
   "execution_count": null,
   "id": "f1765830-a30f-4c65-849e-3f1687f8a4c9",
   "metadata": {},
   "outputs": [],
   "source": []
  }
 ],
 "metadata": {
  "kernelspec": {
   "display_name": "Python 3 (ipykernel)",
   "language": "python",
   "name": "python3"
  },
  "language_info": {
   "codemirror_mode": {
    "name": "ipython",
    "version": 3
   },
   "file_extension": ".py",
   "mimetype": "text/x-python",
   "name": "python",
   "nbconvert_exporter": "python",
   "pygments_lexer": "ipython3",
   "version": "3.8.10"
  }
 },
 "nbformat": 4,
 "nbformat_minor": 5
}
