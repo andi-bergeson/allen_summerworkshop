{
 "cells": [
  {
   "cell_type": "code",
   "execution_count": null,
   "id": "91a2f1b2-c697-49ce-85b9-a4ddd5403eae",
   "metadata": {},
   "outputs": [],
   "source": [
    "import local_connectivity\n",
    "from local_connectivity import make_tables, dist, connect_stats, plot\n",
    "%reload_ext autoreload\n",
    "%autoreload 2"
   ]
  },
  {
   "cell_type": "code",
   "execution_count": null,
   "id": "3eb3c382-2d2f-43da-9b67-bf649b54cc9b",
   "metadata": {},
   "outputs": [],
   "source": [
    "from caveclient import CAVEclient\n",
    "import pandas as pd\n",
    "import numpy as np\n",
    "from matplotlib import pyplot as plt\n",
    "import seaborn as sns\n",
    "import statsmodels as sm\n",
    "from statsmodels.stats import proportion\n",
    "import warnings\n",
    "from tqdm import tqdm"
   ]
  },
  {
   "cell_type": "code",
   "execution_count": null,
   "id": "b3bf3a13-d63b-4b88-b76b-f6510a7d61f2",
   "metadata": {},
   "outputs": [],
   "source": [
    "client = CAVEclient(global_only=True)\n",
    "client = CAVEclient('minnie65_phase3_v1')"
   ]
  },
  {
   "cell_type": "code",
   "execution_count": null,
   "id": "e66b3059-f4e3-4946-8f5a-98f800e74953",
   "metadata": {},
   "outputs": [],
   "source": [
    "presyn_df = ['allen_v1_column_types_slanted']\n",
    "df = client.materialize.query_table(presyn_df[0],split_positions=True)\n",
    "df.loc[df['cell_type'] == '6CT', 'cell_type'] = '6P'\n",
    "df.loc[df['cell_type'] == '6IT', 'cell_type'] = '6P'"
   ]
  },
  {
   "cell_type": "code",
   "execution_count": null,
   "id": "6657cf50-11a4-4269-af8b-00d1fde11048",
   "metadata": {},
   "outputs": [],
   "source": [
    "pre_root_ids = [864691135428608048]\n",
    "pree = []\n",
    "for i in range(len(pre_root_ids)):\n",
    "    pre_grab = df.query(f\"pt_root_id == @pre_root_ids[{i}]\")\n",
    "    pree.append(pre_grab)"
   ]
  },
  {
   "cell_type": "code",
   "execution_count": null,
   "id": "e8ed3fe9-ca0c-4714-baef-efff4ce2f64b",
   "metadata": {},
   "outputs": [],
   "source": [
    "np.unique(df.cell_type)"
   ]
  },
  {
   "cell_type": "code",
   "execution_count": null,
   "id": "6e0bd261-950b-4132-b0c4-7f4a9d9fe5bf",
   "metadata": {},
   "outputs": [],
   "source": [
    "pre = []\n",
    "pre_df = df.query(\"cell_type == 'BC'\").reset_index(drop=True)\n",
    "for i in range(len(pre_df)):\n",
    "    p = pre_df.iloc[[i]]\n",
    "    pre.append(p)"
   ]
  },
  {
   "cell_type": "code",
   "execution_count": null,
   "id": "3c5466bb-2e49-4213-8250-d450747e8e23",
   "metadata": {},
   "outputs": [],
   "source": [
    "len(pre)"
   ]
  },
  {
   "cell_type": "code",
   "execution_count": null,
   "id": "f6d1fa37-50e8-4e16-a716-828a39f08a0b",
   "metadata": {},
   "outputs": [],
   "source": [
    "main,syn,nonsyn = [],[],[]\n",
    "badroots = []\n",
    "for i in tqdm(range(len(pre))):\n",
    "    try:\n",
    "        m,s,n = make_tables.build_tables(client,pre[i])\n",
    "        main.append(m)\n",
    "        syn.append(s)\n",
    "        nonsyn.append(n)\n",
    "    except:\n",
    "        badroots.append(pre[i])\n",
    "        continue"
   ]
  },
  {
   "cell_type": "code",
   "execution_count": null,
   "id": "f3c3c069-491e-4c19-aa5d-1811707f7ecd",
   "metadata": {},
   "outputs": [],
   "source": [
    "len(badroots)"
   ]
  },
  {
   "cell_type": "code",
   "execution_count": null,
   "id": "0328b0e0-ea32-4b58-b3fc-2603f2da5351",
   "metadata": {},
   "outputs": [],
   "source": [
    "r = 15\n",
    "up = 400\n",
    "threshold = 40\n",
    "main_types,syn_types,nonsyn_types,f_type,s_type = [],[],[],[],[]\n",
    "main_thresh,syn_thresh,main_types_thresh,syn_types_thresh,f_type_thresh,s_type_thresh = [],[],[],[],[],[]\n",
    "for i in tqdm(range(len(pre))):\n",
    "    beh = make_tables.prep_tables(main[i],syn[i],nonsyn[i],r,up)\n",
    "    main_types.append(beh[0])\n",
    "    syn_types.append(beh[1])\n",
    "    nonsyn_types.append(beh[2])\n",
    "    f_type.append(beh[3])\n",
    "    s_type.append(beh[4])\n",
    "    \n",
    "    bep = make_tables.prep_tables_thresh(main[i],syn[i],r,up,threshold)\n",
    "    main_thresh.append(bep[0])\n",
    "    syn_thresh.append(bep[1])\n",
    "    main_types_thresh.append(bep[2])\n",
    "    syn_types_thresh.append(bep[3])\n",
    "    f_type_thresh.append(bep[4])\n",
    "    s_type_thresh.append(bep[5])"
   ]
  },
  {
   "cell_type": "code",
   "execution_count": null,
   "id": "f7585e1c-8b4b-4323-91b0-42139c2d5b95",
   "metadata": {},
   "outputs": [],
   "source": [
    "plot.makepdfs(client,pre,main,syn_types,nonsyn_types,s_type,f_type,r,up,None)\n",
    "plot.makepdfs(client,pre,main,syn_types_thresh,nonsyn_types,s_type_thresh,f_type_thresh,r,up,threshold)"
   ]
  },
  {
   "cell_type": "markdown",
   "id": "2e11be6e-c310-4b3b-9dab-cc00ebc11e63",
   "metadata": {},
   "source": [
    "# Examining Depth"
   ]
  },
  {
   "cell_type": "code",
   "execution_count": null,
   "id": "b79d6f26-9a1e-42b1-973b-73ef3a298513",
   "metadata": {},
   "outputs": [],
   "source": [
    "L1 = [296,400]\n",
    "L23 = [401,588]\n",
    "L4 = [589,736]\n",
    "L5 = [736,896]\n",
    "L6 = [897,1060]\n",
    "WM = [1061,1146]\n",
    "depths = np.array((L1,L23,L4,L5,L6,WM))\n",
    "depth_names = np.array(('L1','L23','L4','L5','L6','WM'))"
   ]
  },
  {
   "cell_type": "code",
   "execution_count": null,
   "id": "1bf84271-f540-4918-b416-d09a8588bfd2",
   "metadata": {},
   "outputs": [],
   "source": [
    "depth_syn,depth_nonsyn = [],[]\n",
    "for i in range(len(depths)):\n",
    "    d_syn,d_non = [],[]\n",
    "    for j in range(len(syn)):\n",
    "        m1 = syn[j][((syn[j]['pt_position_y']*(4/1000))<depths[i][1]) & ((syn[j]['pt_position_y']*(4/1000))>depths[i][0])].reset_index(drop=True)\n",
    "        m2 = nonsyn[j][((nonsyn[j]['pt_position_y']*(4/1000))<depths[i][1]) & ((nonsyn[j]['pt_position_y']*(4/1000))>depths[i][0])].reset_index(drop=True)\n",
    "        d_syn.append(m1)\n",
    "        d_non.append(m2)\n",
    "    depth_syn.append(d_syn)\n",
    "    depth_nonsyn.append(d_non)"
   ]
  },
  {
   "cell_type": "code",
   "execution_count": null,
   "id": "a0b22cd5-f86d-4c8c-bf4c-e097ad4fee46",
   "metadata": {},
   "outputs": [],
   "source": [
    "pre[6].pt_position_y.values*(4/1000)"
   ]
  },
  {
   "cell_type": "code",
   "execution_count": null,
   "id": "ca6e9893-8fda-4404-8e22-2ef623d9f771",
   "metadata": {},
   "outputs": [],
   "source": [
    "fig, ax = plt.subplots(2,3)\n",
    "fig.set_size_inches(12,8)\n",
    "\n",
    "for i in range(len(depths)):\n",
    "    k=6\n",
    "    if i < 3:\n",
    "        sns.scatterplot(data=depth_nonsyn[i][k], x=depth_nonsyn[i][k].pt_position_x*(4/1000), y=depth_nonsyn[i][k].pt_position_z*(40/1000),\n",
    "                       ax=ax[0,i], color='grey', style = 'classification_system', alpha=.4, legend= True).set_ylabel(r'$\\mu$m (z)')\n",
    "        sns.scatterplot(data=depth_syn[i][k], x=depth_syn[i][k].pt_position_x*(4/1000), y=depth_syn[i][k].pt_position_z*(40/1000),\n",
    "                       ax=ax[0,i], color='b', style = 'classification_system', alpha=1., legend= False).set_xlabel(r'$\\mu$m (x)')\n",
    "        #sns.scatterplot(x=pre[k].pt_position_x*(4/1000), y=pre[k].pt_position_z*(40/1000), marker='*',color='r',s=200,\n",
    "        #                ax=ax[0,2], legend= False).set_ylabel(r'$\\mu$m')\n",
    "        xrange = [int(pre[k].pt_position_x*(4/1000))-250,int(pre[k].pt_position_x*(4/1000))+250]\n",
    "        yrange = [int(pre[k].pt_position_z*(40/1000))-250,int(pre[k].pt_position_z*(40/1000))+250]\n",
    "        ax[0,i].set_xlim(xrange[0],xrange[1])\n",
    "        ax[0,i].set_ylim(yrange[0],yrange[1])\n",
    "        ax[0,i].set_title(depth_names[i],fontsize=16)\n",
    "        ax[0,i].set_aspect('equal')\n",
    "    else:\n",
    "        sns.scatterplot(data=depth_nonsyn[i][k], x=depth_nonsyn[i][k].pt_position_x*(4/1000), y=depth_nonsyn[i][k].pt_position_z*(40/1000),\n",
    "                       ax=ax[1,i-3], color='grey', style = 'classification_system', alpha=.4, legend= False).set_ylabel(r'$\\mu$m (z)')\n",
    "        sns.scatterplot(data=depth_syn[i][k], x=depth_syn[i][k].pt_position_x*(4/1000), y=depth_syn[i][k].pt_position_z*(40/1000),\n",
    "                       ax=ax[1,i-3], color='b', style = 'classification_system', alpha=1., legend= False).set_xlabel(r'$\\mu$m (x)')\n",
    "        #sns.scatterplot(x=boy.pt_position_x*(4/1000), y=boy.pt_position_z*(40/1000), marker='*',color='r',s=200,\n",
    "                        #ax=ax[1,i-3]).set_ylabel(r'$\\mu$m')\n",
    "        xrange = [int(pre[k].pt_position_x*(4/1000))-250,int(pre[k].pt_position_x*(4/1000))+250]\n",
    "        yrange = [int(pre[k].pt_position_z*(40/1000))-250,int(pre[k].pt_position_z*(40/1000))+250]\n",
    "        ax[1,i-3].set_xlim(xrange[0],xrange[1])\n",
    "        ax[1,i-3].set_ylim(yrange[0],yrange[1])\n",
    "        ax[1,i-3].set_title(depth_names[i],fontsize=16)\n",
    "        ax[1,i-3].set_aspect('equal')\n",
    "fig.tight_layout()"
   ]
  },
  {
   "cell_type": "code",
   "execution_count": null,
   "id": "09883dcd-3b27-4df1-8f45-5756f3a420eb",
   "metadata": {},
   "outputs": [],
   "source": []
  },
  {
   "cell_type": "code",
   "execution_count": null,
   "id": "0c84e661-59ed-4e59-8900-e8db76d6210a",
   "metadata": {},
   "outputs": [],
   "source": []
  },
  {
   "cell_type": "code",
   "execution_count": null,
   "id": "5967439e-921b-411c-8af0-f58cbec31429",
   "metadata": {},
   "outputs": [],
   "source": [
    "osyn,orph_rootids,numosyn = [],[],[]\n",
    "for i in tqdm(range(len(pre))):\n",
    "    os,orp,num = make_tables.find_orphans(client,pre[i])\n",
    "    osyn.append(os)\n",
    "    orph_rootids.append(orp)\n",
    "    numosyn.append(num)"
   ]
  },
  {
   "cell_type": "code",
   "execution_count": null,
   "id": "38d6979f-3491-472e-bead-80d582f3cd78",
   "metadata": {},
   "outputs": [],
   "source": [
    "numb,numbsyn = [],[]\n",
    "n_oroots = []\n",
    "for i in range(len(syn)):\n",
    "    numb.append(len(syn[i]))\n",
    "    numbsyn.append(sum(syn[i].num_syn))\n",
    "    n_oroots.append(len(orph_rootids[i]))"
   ]
  },
  {
   "cell_type": "code",
   "execution_count": null,
   "id": "29b5fa38-4b78-402f-a48c-1557719fb80a",
   "metadata": {},
   "outputs": [],
   "source": [
    "fig, ax = plt.subplots(2,1)\n",
    "fig.set_size_inches(14,7)\n",
    "\n",
    "ax[0].hist(numb, 20, density=False, alpha=.8, label='post-synaptic somas')\n",
    "ax[0].hist(numbsyn, 20, density=False, alpha=.6, label='post-synaptic synapses')\n",
    "ax[0].set_title(pre[0].cell_type.values[0])\n",
    "#ax[0].grid()\n",
    "ax[0].legend()\n",
    "\n",
    "ax[1].hist(n_oroots, 15, density=False, alpha=.8, label='orphan root-ids')\n",
    "ax[1].hist(numosyn, 15, density=False, alpha=.6, label='orphan synapses')\n",
    "#ax[1].grid()\n",
    "ax[1].legend()\n",
    "\n",
    "ax[0].set_xlim(0,8000)\n",
    "ax[1].set_xlim(0,8000)\n",
    "plt.show()"
   ]
  },
  {
   "cell_type": "code",
   "execution_count": null,
   "id": "c1a44f47-1f81-4aba-847e-86f520331b4d",
   "metadata": {},
   "outputs": [],
   "source": [
    "sns.set(rc={'figure.figsize':(16,6)})\n",
    "g = sns.scatterplot(data=osyn[0],x='r_ave',y='num_syn',size='ave_size', sizes=(20, 200), legend= False);\n",
    "sns.scatterplot(data=osyn[0],x='r_ave',y='num_syn',size='sum_size', sizes=(20, 200), legend= False, alpha=.4)\n",
    "#g.set(xlim=(0, 250));\n",
    "#g.set(ylim=(0, 20));\n",
    "g.set_title('Average Radial Distance vs number of synapses per orphan (size=ave if blue, sum if yellow)', fontsize=18);"
   ]
  },
  {
   "cell_type": "code",
   "execution_count": null,
   "id": "926c94f0-6334-4d10-b8cd-7abb540f14a3",
   "metadata": {},
   "outputs": [],
   "source": [
    "sns.set(rc={'figure.figsize':(16,6)})\n",
    "g = sns.scatterplot(data=osyn[0],x='r_range',y='num_syn',size='ave_size', sizes=(20, 200), legend= False);\n",
    "sns.scatterplot(data=osyn[0],x='r_range',y='num_syn',size='sum_size', sizes=(20, 200), legend= False, alpha=.4)\n",
    "#sns.scatterplot(data=osyn,x='d_ave',y='num_syn',size='ave_size', sizes=(20, 200), legend= False)\n",
    "#g.set(xlim=(0, 250));\n",
    "#g.set(ylim=(0, 20));\n",
    "g.set_title('Range of Radial Distance vs number of synapses per orphan (size=ave if blue, sum if yellow)', fontsize=18);"
   ]
  },
  {
   "cell_type": "code",
   "execution_count": null,
   "id": "feb5d0dd-adb7-4c2f-965c-e89a278d2bc7",
   "metadata": {},
   "outputs": [],
   "source": [
    "ox,oy,oz = [],[],[]\n",
    "ox_diff,oy_diff,oz_diff = [],[],[]\n",
    "synx_diff,syny_diff,synz_diff = [],[],[]\n",
    "ox_ave,oy_ave,oz_ave = [],[],[]\n",
    "synx_ave,syny_ave,synz_ave = [],[],[]\n",
    "for i in range(len(osyn)):\n",
    "    xx,yy,zz = [],[],[]\n",
    "    for j in range(len(osyn[i])):\n",
    "        x = osyn[i].ctr_pt_position[j][0][0]*(4/1000)\n",
    "        y = osyn[i].ctr_pt_position[j][0][1]*(4/1000)\n",
    "        z = osyn[i].ctr_pt_position[j][0][2]*(40/1000)\n",
    "        xx.append(x)\n",
    "        yy.append(y)\n",
    "        zz.append(z)\n",
    "    ox.append(xx)\n",
    "    oy.append(yy)\n",
    "    oz.append(zz)\n",
    "    ox_diff.append(np.abs(xx-np.array(pre[i]['pt_position_x']*(4/1000))[0]))\n",
    "    oy_diff.append(np.abs(yy-np.array(pre[i]['pt_position_y']*(4/1000))[0]))\n",
    "    oz_diff.append(np.abs(zz-np.array(pre[i]['pt_position_z']*(40/1000))[0]))\n",
    "    synx_diff.append(np.abs(syn[i]['pt_position_x']*(4/1000)-np.array(pre[i]['pt_position_x']*(4/1000))[0]))\n",
    "    syny_diff.append(np.abs(syn[i]['pt_position_y']*(4/1000)-np.array(pre[i]['pt_position_y']*(4/1000))[0]))\n",
    "    synz_diff.append(np.abs(syn[i]['pt_position_z']*(40/1000)-np.array(pre[i]['pt_position_z']*(40/1000))[0]))\n",
    "    ox_ave.append(np.average(ox_diff[i]))\n",
    "    oy_ave.append(np.average(oy_diff[i]))\n",
    "    oz_ave.append(np.average(oz_diff[i]))\n",
    "    synx_ave.append(np.average(synx_diff[i]))\n",
    "    syny_ave.append(np.average(syny_diff[i]))\n",
    "    synz_ave.append(np.average(synz_diff[i]))"
   ]
  },
  {
   "cell_type": "code",
   "execution_count": null,
   "id": "2c956356-4071-46cf-937a-061c135b0696",
   "metadata": {},
   "outputs": [],
   "source": [
    "fig, ax = plt.subplots(3,1)\n",
    "fig.set_size_inches(16,8)\n",
    "k = 3\n",
    "\n",
    "ax[0].hist(ox[k], 30, label='Orphan Targets', density=True, alpha=0.6)\n",
    "ax[0].hist(syn[k]['pt_position_x']*(4/1000), 30, label='Somatic Targets', density=True, alpha=0.6)\n",
    "ax[0].axvline(np.array(pre[k]['pt_position_x']*(4/1000))[0], label='Pre-Syn Cell', c='r')\n",
    "ax[0].set_title(\"X Position\", fontsize=15)\n",
    "ax[0].set_xlabel(r'$\\mu$m', fontsize=10)\n",
    "ax[0].legend()\n",
    "\n",
    "ax[1].hist(oy[k], 30, label='Orphan Targets', density=True, alpha=0.6)\n",
    "ax[1].hist(syn[k]['pt_position_y']*(4/1000), 30, label='Somatic Targets', density=True, alpha=0.6)\n",
    "ax[1].axvline(np.array(pre[k]['pt_position_y']*(4/1000))[0], label='Pre-Syn Cell', c='r')\n",
    "ax[1].set_title(\"Y Position\", fontsize=15)\n",
    "ax[1].set_xlabel(r'$\\mu$m', fontsize=10)\n",
    "ax[1].legend()\n",
    "\n",
    "ax[2].hist(oz[k], 30, label='Orphan Targets', density=True, alpha=0.6)\n",
    "ax[2].hist(syn[k]['pt_position_z']*(40/1000), 30, label='Somatic Targets', density=True, alpha=0.6)\n",
    "ax[2].axvline(np.array(pre[k]['pt_position_z']*(40/1000))[0], label='Pre-Syn Cell', c='r')\n",
    "ax[2].set_title(\"Z Position\", fontsize=15)\n",
    "ax[2].set_xlabel(r'$\\mu$m', fontsize=10)\n",
    "ax[2].legend()\n",
    "\n",
    "plt.tight_layout()\n",
    "plt.show()"
   ]
  },
  {
   "cell_type": "code",
   "execution_count": null,
   "id": "accff08d-227a-4c6d-be60-597d9c9ce71d",
   "metadata": {},
   "outputs": [],
   "source": [
    "fig, ax = plt.subplots(3,1)\n",
    "fig.set_size_inches(16,8)\n",
    "\n",
    "ax[0].hist(ox_ave, 30, label='Orphan Targets', density=True, alpha=0.6)\n",
    "ax[0].hist(synx_ave, 30, label='Somatic Targets', density=True, alpha=0.6)\n",
    "ax[0].set_title(\"average difference from pre-syn x position\", fontsize=15)\n",
    "ax[0].set_xlabel(r'$\\mu$m', fontsize=10)\n",
    "ax[0].legend()\n",
    "\n",
    "ax[1].hist(oy_ave, 30, label='Orphan Targets', density=True, alpha=0.6)\n",
    "ax[1].hist(syny_ave, 30, label='Somatic Targets', density=True, alpha=0.6)\n",
    "ax[1].set_title(\"average difference from pre-syn y position\", fontsize=15)\n",
    "ax[1].set_xlabel(r'$\\mu$m', fontsize=10)\n",
    "ax[1].legend()\n",
    "\n",
    "ax[2].hist(oz_ave, 30, label='Orphan Targets', density=True, alpha=0.6)\n",
    "ax[2].hist(synz_ave, 30, label='Somatic Targets', density=True, alpha=0.6)\n",
    "ax[2].set_title(\"average difference from pre-syn z position\", fontsize=15)\n",
    "ax[2].set_xlabel(r'$\\mu$m', fontsize=10)\n",
    "ax[2].legend()\n",
    "\n",
    "plt.tight_layout()\n",
    "plt.show()"
   ]
  },
  {
   "cell_type": "code",
   "execution_count": null,
   "id": "846024c9-7ef4-4a8e-b634-94b0bcc20b82",
   "metadata": {},
   "outputs": [],
   "source": [
    "# o = []\n",
    "# bad_oroots = []\n",
    "# for i in tqdm(range(len(orph_rootids))):\n",
    "#     o_per_presyn = []\n",
    "#     for j in range(len(orph_rootids[i])):\n",
    "#         try:\n",
    "#             orphans = client.materialize.query_table('synapses_pni_2',\n",
    "#                                                      select_columns=['pre_pt_root_id','post_pt_root_id','size','ctr_pt_position'],\n",
    "#                                                        filter_equal_dict={'post_pt_root_id':orph_rootids[i][j][0]})\n",
    "#             o_per_presyn.append(orphans)\n",
    "#         except:\n",
    "#             bad_oroots.append(orph_rootids[i][j][0])\n",
    "#     o.append(o_per_presyn)"
   ]
  },
  {
   "cell_type": "code",
   "execution_count": null,
   "id": "6a1668f6-c78d-4115-afff-55a7ec0e716b",
   "metadata": {},
   "outputs": [],
   "source": [
    "# len(bad_oroots)"
   ]
  },
  {
   "cell_type": "code",
   "execution_count": null,
   "id": "6fd7759b-985b-4a14-b9d4-68589b067768",
   "metadata": {},
   "outputs": [],
   "source": [
    "# o_df = []\n",
    "# for i in range(len(o)):\n",
    "#     bep = pd.concat(o[i],ignore_index=True)\n",
    "#     o_df.append(bep)"
   ]
  },
  {
   "cell_type": "code",
   "execution_count": null,
   "id": "6f122b5d-76f5-4c1d-9620-1c1b1afa40c5",
   "metadata": {},
   "outputs": [],
   "source": [
    "# for i in tqdm(range(len(o_df))):\n",
    "#     o_df[i].to_pickle(\"./orphans/{0:s}{1:s}-orphans.pkl\".format(str(pre[0].cell_type.values[0]),str(i)))"
   ]
  },
  {
   "cell_type": "code",
   "execution_count": null,
   "id": "e9e3b379-640d-4a3f-8363-382b67e5b27a",
   "metadata": {},
   "outputs": [],
   "source": [
    "o_dup = []\n",
    "for i in range(len(orph_rootids)):\n",
    "    beep = pd.read_pickle('./orphans/{0:s}{1:s}-orphans.pkl'.format(str(pre[0].cell_type.values[0]),str(i)))\n",
    "    o_dup.append(beep)"
   ]
  },
  {
   "cell_type": "code",
   "execution_count": null,
   "id": "393decc7-66b3-4009-aaf5-c5a571f22e71",
   "metadata": {},
   "outputs": [],
   "source": [
    "def prep_orphans(o_dup,pre_df):\n",
    "    o_dup = o_dup.sort_values(by=['post_pt_root_id']).reset_index(drop=True)\n",
    "    o_dup['num_syn'] = o_dup.groupby('post_pt_root_id')['post_pt_root_id'].transform('count')\n",
    "    o_dup.rename(columns={'size':'sizes'}, inplace=True)\n",
    "    o = o_dup.drop_duplicates(subset='post_pt_root_id', keep='first').reset_index(drop=True)\n",
    "    o['pre_pt_root_id'] = o_dup.assign(pre_pt_root_id=tuple(o_dup.pre_pt_root_id)).groupby('post_pt_root_id').pre_pt_root_id.apply(list).reset_index(drop=True)\n",
    "    o['ctr_pt_position'] = o_dup.assign(ctr_pt_position=tuple(o_dup.ctr_pt_position)).groupby('post_pt_root_id').ctr_pt_position.apply(list).reset_index(drop=True)\n",
    "    o['sizes'] = o_dup.assign(sizes=tuple(o_dup.sizes)).groupby('post_pt_root_id').sizes.apply(list).reset_index(drop=True)\n",
    "    return o"
   ]
  },
  {
   "cell_type": "code",
   "execution_count": null,
   "id": "f6f45a1d-12f9-401c-8568-92ab9eb82252",
   "metadata": {},
   "outputs": [],
   "source": [
    "o = []\n",
    "for i in tqdm(range(len(o_dup))):\n",
    "    beh = prep_orphans(o_dup[i],pre[i])\n",
    "    o.append(beh)"
   ]
  },
  {
   "cell_type": "code",
   "execution_count": null,
   "id": "2978b31a-08a1-4163-8b0b-ac3a0273a269",
   "metadata": {},
   "outputs": [],
   "source": [
    "o[0][0:1]"
   ]
  },
  {
   "cell_type": "code",
   "execution_count": null,
   "id": "d33d4563-e63e-48f1-80e9-7134ad37a3db",
   "metadata": {},
   "outputs": [],
   "source": [
    "allox,alloy,alloz = [],[],[]\n",
    "for i in range(len(osyn)):\n",
    "    xx,yy,zz = [],[],[]\n",
    "    for j in range(len(osyn[i])):\n",
    "        x = o[i].ctr_pt_position[j][0][0]*(4/1000)\n",
    "        y = o[i].ctr_pt_position[j][0][1]*(4/1000)\n",
    "        z = o[i].ctr_pt_position[j][0][2]*(40/1000)\n",
    "        xx.append(x)\n",
    "        yy.append(y)\n",
    "        zz.append(z)\n",
    "    allox.append(xx)\n",
    "    alloy.append(yy)\n",
    "    alloz.append(zz)"
   ]
  },
  {
   "cell_type": "code",
   "execution_count": null,
   "id": "d99a9297-37e6-4c2f-b04b-c2746d54d1a9",
   "metadata": {},
   "outputs": [],
   "source": [
    "fig, ax = plt.subplots(3,1)\n",
    "fig.set_size_inches(16,8)\n",
    "k = 3\n",
    "\n",
    "ax[0].hist(ox[k], 30, label='Orphan Targets', density=True, alpha=0.6)\n",
    "ax[0].hist(allox[k], 30, label='All Orphans', density=True, alpha=0.6)\n",
    "ax[0].axvline(np.array(pre[k]['pt_position_x']*(4/1000))[0], label='Pre-Syn Cell', c='r')\n",
    "ax[0].set_title(\"X Position\", fontsize=15)\n",
    "ax[0].set_xlabel(r'$\\mu$m', fontsize=10)\n",
    "ax[0].legend()\n",
    "\n",
    "ax[1].hist(oy[k], 30, label='Orphan Targets', density=True, alpha=0.6)\n",
    "ax[1].hist(alloy[k], 30, label='All Orphans', density=True, alpha=0.6)\n",
    "ax[1].axvline(np.array(pre[k]['pt_position_y']*(4/1000))[0], label='Pre-Syn Cell', c='r')\n",
    "ax[1].set_title(\"Y Position\", fontsize=15)\n",
    "ax[1].set_xlabel(r'$\\mu$m', fontsize=10)\n",
    "ax[1].legend()\n",
    "\n",
    "ax[2].hist(oz[k], 30, label='Orphan Targets', density=True, alpha=0.6)\n",
    "ax[2].hist(alloz[k], 30, label='All Orphans', density=True, alpha=0.6)\n",
    "ax[2].axvline(np.array(pre[k]['pt_position_z']*(40/1000))[0], label='Pre-Syn Cell', c='r')\n",
    "ax[2].set_title(\"Z Position\", fontsize=15)\n",
    "ax[2].set_xlabel(r'$\\mu$m', fontsize=10)\n",
    "ax[2].legend()\n",
    "\n",
    "plt.tight_layout()\n",
    "plt.show()"
   ]
  },
  {
   "cell_type": "code",
   "execution_count": null,
   "id": "b1e57980-b3c4-4887-8d97-3daf54ee3fb9",
   "metadata": {},
   "outputs": [],
   "source": []
  },
  {
   "cell_type": "code",
   "execution_count": null,
   "id": "0ba43622-6664-44e7-95ff-f2e67f24dd11",
   "metadata": {},
   "outputs": [],
   "source": []
  },
  {
   "cell_type": "code",
   "execution_count": null,
   "id": "b25ea362-7061-4399-ad6b-3cf6b73eb934",
   "metadata": {},
   "outputs": [],
   "source": []
  },
  {
   "cell_type": "code",
   "execution_count": null,
   "id": "85a9c012-7f6d-42d5-afee-e8181760dfc1",
   "metadata": {},
   "outputs": [],
   "source": []
  },
  {
   "cell_type": "code",
   "execution_count": null,
   "id": "dd4af55c-6b9e-4329-8c6d-a5fb9597aec3",
   "metadata": {},
   "outputs": [],
   "source": []
  },
  {
   "cell_type": "markdown",
   "id": "20ace82b-7dee-4fc7-a552-3f55d34cee73",
   "metadata": {},
   "source": [
    "- ~array of distances for synapse to target (and synapse to pre_syn)~\n",
    "- ~make the same plots but only for synapses within 40 µm of their target cell body position~\n",
    "- ~grab all my bullshit from minnie~\n",
    "- quantify orphan targets, add uncertainty OR assign to excitatory?\n",
    "- make the same plots but scale color w snapse count\n",
    "- add ave synapse size to depth vs radial distance plots\n",
    "- remake demo notebook\n",
    "- distribution of total number of synapses from the starter cell onto those cells per cell type\n",
    "- calculate angle to target cells from pre_synaptic cell / determine axon angle\n",
    "- measure drop-off of axon/dendrite overlap\n",
    "\n",
    "- normalize hist?\n",
    "- target cell's synapse position info? spread? volume?"
   ]
  },
  {
   "cell_type": "markdown",
   "id": "7befd1ce-278f-483c-992b-d3de0668f050",
   "metadata": {},
   "source": [
    "### From Casey:\n",
    "\n",
    "Orphans will happen, in principle, when the root id does not show up in the nucleus_neuron_svm table. \n",
    "\n",
    "There are two basic possibilities for an orphan:\n",
    "1. The orphan should connect to a cell in the dataset but there is an error in the segmentation that needs proofreading\n",
    "2. The orphan is a true orphan, part of a cell outside the dataset volume.\n",
    "\n",
    "For our measurements, Category 1 breaks down into more cateogries:\n",
    "\n",
    "    1a) Other synapses from the orphan's true host are accounted for, so the orphan will only add to the synapse count\n",
    "    \n",
    "    1b) The segmented cell does not receive other synapses from the seed interneuron, and thus there is a false lack of connection in the data until the orphan is attached.\n",
    "\n",
    "These all will have spatial biases (more orphans close to the dataset edge) and morphology biases (neurons that target cell bodies might have fewer orphans of type 1b, because dendrite fragments tend to start farther out on the cell)\n",
    "\n",
    "I suspect we will have to actually do some manual counting of these, in order to quantify our uncertainty"
   ]
  },
  {
   "cell_type": "code",
   "execution_count": null,
   "id": "cba47ed8-176d-4ee6-b78a-04191cc0aa71",
   "metadata": {},
   "outputs": [],
   "source": []
  }
 ],
 "metadata": {
  "kernelspec": {
   "display_name": "Python 3 (ipykernel)",
   "language": "python",
   "name": "python3"
  },
  "language_info": {
   "codemirror_mode": {
    "name": "ipython",
    "version": 3
   },
   "file_extension": ".py",
   "mimetype": "text/x-python",
   "name": "python",
   "nbconvert_exporter": "python",
   "pygments_lexer": "ipython3",
   "version": "3.8.10"
  }
 },
 "nbformat": 4,
 "nbformat_minor": 5
}
