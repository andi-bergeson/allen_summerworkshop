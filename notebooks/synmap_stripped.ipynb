{
 "cells": [
  {
   "cell_type": "code",
   "execution_count": null,
   "id": "a5f69f0f-891c-4dde-b93a-40360d270c75",
   "metadata": {},
   "outputs": [],
   "source": [
    "import neighbors\n",
    "from neighbors import make_tables, dist, connect_stats, plot\n",
    "%reload_ext autoreload\n",
    "%autoreload 2"
   ]
  },
  {
   "cell_type": "code",
   "execution_count": null,
   "id": "51eb65b5-efa3-4aaa-8fce-584239546afa",
   "metadata": {},
   "outputs": [],
   "source": [
    "from caveclient import CAVEclient\n",
    "import pandas as pd\n",
    "import numpy as np\n",
    "import matplotlib\n",
    "from matplotlib import pyplot as plt\n",
    "from matplotlib import ticker\n",
    "from matplotlib.colors import LogNorm\n",
    "import seaborn as sns\n",
    "import statsmodels as sm\n",
    "from statsmodels.stats import proportion\n",
    "from scipy.optimize import minimize\n",
    "from sklearn.preprocessing import StandardScaler\n",
    "import warnings\n",
    "from tqdm import tqdm\n",
    "import umap\n",
    "import umap.plot"
   ]
  },
  {
   "cell_type": "code",
   "execution_count": null,
   "id": "c78d36d7-94a9-49fc-aa4c-bda5e052322d",
   "metadata": {},
   "outputs": [],
   "source": [
    "client = CAVEclient(global_only=True)\n",
    "client = CAVEclient('minnie65_phase3_v1')"
   ]
  },
  {
   "cell_type": "code",
   "execution_count": null,
   "id": "d612826d-adbb-4636-b016-227c53b9c66d",
   "metadata": {},
   "outputs": [],
   "source": [
    "proofread_presyn = client.materialize.query_table('proofreading_status_public_release',split_positions=True)\n",
    "proof_ids = np.unique(proofread_presyn.valid_id)"
   ]
  },
  {
   "cell_type": "code",
   "execution_count": null,
   "id": "428fb8d3-a880-4fff-9770-213d333e29cf",
   "metadata": {},
   "outputs": [],
   "source": [
    "presyn_df = ['allen_v1_column_types_slanted']\n",
    "df_unfiltered = client.materialize.query_table(presyn_df[0],split_positions=True)"
   ]
  },
  {
   "cell_type": "code",
   "execution_count": null,
   "id": "faf0cc39-25e4-4a61-95fe-cea2279c68c8",
   "metadata": {},
   "outputs": [],
   "source": [
    "df = df_unfiltered.query('pt_root_id in @proof_ids').reset_index(drop=True)\n",
    "df.loc[df['cell_type'] == '6CT', 'cell_type'] = '6P'\n",
    "df.loc[df['cell_type'] == '6IT', 'cell_type'] = '6P'"
   ]
  },
  {
   "cell_type": "code",
   "execution_count": null,
   "id": "b5d0090f-454c-47c0-9e35-e6650629c4f9",
   "metadata": {},
   "outputs": [],
   "source": [
    "L1 = [290,400]\n",
    "L23 = [400,589]\n",
    "L4 = [589,736]\n",
    "L5 = [736,896]\n",
    "L6 = [896,1061]\n",
    "WM = [1061,1156]\n",
    "depths = np.array([L1,L23,L4,L5,L6,WM])\n",
    "depth_names = np.array(['23','23','4','5','6','6'])"
   ]
  },
  {
   "cell_type": "code",
   "execution_count": null,
   "id": "72d7ff74-41b1-4848-b26d-45d88b563187",
   "metadata": {},
   "outputs": [],
   "source": [
    "df = make_tables.rename_by_layer(df,depths,depth_names)"
   ]
  },
  {
   "cell_type": "code",
   "execution_count": null,
   "id": "1af61265-f11a-4a34-b543-b0aa29a45566",
   "metadata": {},
   "outputs": [],
   "source": [
    "np.unique(df.cell_type)"
   ]
  },
  {
   "cell_type": "code",
   "execution_count": null,
   "id": "ecca1ee4-3750-45a1-aa75-4332188d797f",
   "metadata": {},
   "outputs": [],
   "source": [
    "cell_types = ['23_BC','23_MC','23_BPC','4_BC','4_MC','4_BPC','5_BC','5_MC','5_BPC','Unsure']\n",
    "#,'6_BC','6_BPC','6_MC']\n",
    "pre_df,pre = [],[]\n",
    "for i in range(len(cell_types)):\n",
    "    pre_grab = df.query(f\"cell_type == @cell_types[{i}]\")\n",
    "    pre_df.append(pre_grab)\n",
    "for i in range(len(cell_types)):\n",
    "    pre_type = []\n",
    "    for j in range(len(pre_df[i])):\n",
    "        p = pre_df[i].iloc[[j]]\n",
    "        pre_type.append(p)\n",
    "    pre.append(pre_type)"
   ]
  },
  {
   "cell_type": "code",
   "execution_count": null,
   "id": "968f70c2-997f-4d15-8599-c621fa55382d",
   "metadata": {},
   "outputs": [],
   "source": [
    "for i in range(len(pre)):\n",
    "    print(\"{0:d} of {1:s}\".format(len(pre[i]),cell_types[i]))"
   ]
  },
  {
   "cell_type": "code",
   "execution_count": null,
   "id": "bce4be48-3bc1-4bbc-bf35-e08b6104cfb3",
   "metadata": {},
   "outputs": [],
   "source": [
    "pd.options.mode.chained_assignment = None\n",
    "main,syn,nonsyn,syndup = [],[],[],[]\n",
    "badroot = []\n",
    "for i in range(len(pre)):\n",
    "    ma,sy,non,syd = [],[],[],[]\n",
    "    br = []\n",
    "    for j in tqdm(range(len(pre[i]))):\n",
    "        try:\n",
    "            m,s,n = make_tables.build_tables(client,pre[i][j],depths,depth_names)\n",
    "            #,sd\n",
    "            ma.append(m)\n",
    "            sy.append(s)\n",
    "            non.append(n)\n",
    "            #syd.append(sd)\n",
    "        except:\n",
    "            br.append(pre[i][j])\n",
    "            continue\n",
    "    main.append(ma)\n",
    "    syn.append(sy)\n",
    "    nonsyn.append(non)\n",
    "    syndup.append(syd)\n",
    "    badroot.append(br)\n",
    "badroot"
   ]
  },
  {
   "cell_type": "code",
   "execution_count": null,
   "id": "ecf09a25-ac3f-4560-9fcc-935146209847",
   "metadata": {},
   "outputs": [],
   "source": [
    "r_interval = 25\n",
    "up = 400\n",
    "threshold = 40"
   ]
  },
  {
   "cell_type": "code",
   "execution_count": null,
   "id": "d6fdd8b0-83ce-410a-870e-965f046732d4",
   "metadata": {
    "tags": []
   },
   "outputs": [],
   "source": [
    "main_types,syn_types,nonsyn_types,f_type,s_type,syndup_types = [],[],[],[],[],[]\n",
    "for i in range(len(pre)):\n",
    "    bep = make_tables.final_prep(main[i],syn[i],nonsyn[i],r_interval,up)\n",
    "    main_types.append(bep[0])\n",
    "    syn_types.append(bep[1])\n",
    "    nonsyn_types.append(bep[2])\n",
    "    f_type.append(bep[3])\n",
    "    s_type.append(bep[4])\n",
    "    #syndup_types.append(bep[5])"
   ]
  },
  {
   "cell_type": "code",
   "execution_count": null,
   "id": "f20d199d-4264-463c-b13b-ca81c9dcfacb",
   "metadata": {},
   "outputs": [],
   "source": [
    "# main_thresh,syn_thresh,nonsyn_thresh,main_types_thresh,syn_types_thresh,nonsyn_types_thresh,f_type_thresh,s_type_thresh = [],[],[],[],[],[],[],[]\n",
    "# for i in range(len(pre)):\n",
    "#     bep = make_tables.final_prep(main[i],syn[i],nonsyn[i],r_interval,up,threshold=threshold)\n",
    "#     main_thresh.append(bep[0])\n",
    "#     syn_thresh.append(bep[1])\n",
    "#     nonsyn_thresh.append(bep[2])\n",
    "#     main_types_thresh.append(bep[3])\n",
    "#     syn_types_thresh.append(bep[4])\n",
    "#     nonsyn_types_thresh.append(bep[5])\n",
    "#     f_type_thresh.append(bep[6])\n",
    "#     s_type_thresh.append(bep[7])"
   ]
  },
  {
   "cell_type": "code",
   "execution_count": null,
   "id": "3208f6f7-f7eb-46fb-8ffb-ec887fa4ae75",
   "metadata": {},
   "outputs": [],
   "source": [
    "# for i in range(len(pre)):\n",
    "#     plot.makepdfs(client,pre[i],main[i],syn_types[i],nonsyn_types[i],s_type[i],f_type[i],r_interval,up)\n",
    "#     #,MLEresults=True,threshold=None,display=False"
   ]
  },
  {
   "cell_type": "markdown",
   "id": "cc6a055f-5d93-4f31-bb39-f8f7c0bac397",
   "metadata": {},
   "source": [
    "#### Log-Likelihood Function:\n",
    "\n",
    "<h4> $$ l(\\theta|\\chi) = \\displaystyle\\sum_{i=1}^{n_{conn}} log(p(\\theta|\\chi_{conn_i})) + \\displaystyle\\sum_{j=1}^{n_{unc}} log(1 - p(\\theta|\\chi_{unc_j}))  $$"
   ]
  },
  {
   "cell_type": "markdown",
   "id": "bb5eaf9f-7fca-4c42-8a66-f03f6d2dfbac",
   "metadata": {},
   "source": [
    "where $\\chi_{conn}$ and $\\chi_{unc}$ are the subset of experimental variables (in this case, lateral intersomatic distance) for either connected or unconnected pairs."
   ]
  },
  {
   "cell_type": "markdown",
   "id": "b0b861c4-ee08-49bd-bc24-4180d8942087",
   "metadata": {},
   "source": [
    "#### Probability function, based on a Gaussian:\n",
    "\n",
    "<h4> $$ p(\\theta|\\chi) = p_{max} e^{-\\frac{(d-\\mu)^{2}}{2\\sigma^{2}}} $$"
   ]
  },
  {
   "cell_type": "markdown",
   "id": "838784dc-1666-4b4f-869e-76308d21c4ee",
   "metadata": {},
   "source": [
    "where model parameters $\\theta = \\{p_{max},\\sigma\\}$ and experimental variable $\\chi = \\{d\\}$ are\n",
    "\n",
    "$p_{max}$ = peak connection probability,\n",
    "    \n",
    "$\\sigma$ = distace constant of connection probability (changes with cell class), \n",
    "    \n",
    "$d$ = lateral (radial) intersomatic distance of somatic pair, and\n",
    "\n",
    "$\\mu$ = center of probability function, if we want it at a position other than zero mirons away from the soma."
   ]
  },
  {
   "cell_type": "code",
   "execution_count": null,
   "id": "ffb9f2ef-beb8-463a-a9e1-ab99f2ca4254",
   "metadata": {},
   "outputs": [],
   "source": [
    "res_comb,nconn_comb,nprobe_comb,res,nconn,nprobe,precat,cat = connect_stats.GaussianMLE(pre,s_type,f_type,syn_types,nonsyn_types,main)\n",
    "pmax_comb = res_comb[0]\n",
    "sigs_comb = res_comb[1]\n",
    "moo_comb = res_comb[2]\n",
    "pmax = res[0]\n",
    "sigs = res[1]\n",
    "moo = res[2]"
   ]
  },
  {
   "cell_type": "code",
   "execution_count": null,
   "id": "a9f71162-7280-4f50-974c-98b6ff3172c2",
   "metadata": {},
   "outputs": [],
   "source": [
    "# thresh = connect_stats.GaussianMLE(pre,s_type_thresh,f_type_thresh,syn_types_thresh,nonsyn_types_thresh,main,threshold=threshold)\n",
    "# pmax_comb_thresh = thresh[0]\n",
    "# sigs_comb_thresh = thresh[1]\n",
    "# moo_comb_thresh = thresh[2]\n",
    "# pmax_thresh = thresh[3]\n",
    "# sigs_thresh = thresh[4]\n",
    "# moo_thresh = thresh[5]\n",
    "# precat_thresh = thresh[6]\n",
    "# cat_thresh = thresh[7]\n",
    "\n",
    "# precat = pd.merge(precat,precat_thresh)\n",
    "# cat = pd.merge(cat,cat_thresh)"
   ]
  },
  {
   "cell_type": "code",
   "execution_count": null,
   "id": "476bf76a-06b6-4065-9586-bcd8f5ab3b6d",
   "metadata": {},
   "outputs": [],
   "source": [
    "target_list = np.unique(main[0][0].cell_type)"
   ]
  },
  {
   "cell_type": "code",
   "execution_count": null,
   "id": "deaa3a12-6631-493e-8edd-fdb59e5c7b42",
   "metadata": {},
   "outputs": [],
   "source": [
    "#cat.to_csv(\"inh_pre_df.csv\",index=False)"
   ]
  },
  {
   "cell_type": "code",
   "execution_count": null,
   "id": "8db14d40-7698-4154-afa4-dc22cbc9512e",
   "metadata": {},
   "outputs": [],
   "source": [
    "pcat,sigcat,cellname_array = [],[],[]\n",
    "depthnconn,depthnprobe = [],[]\n",
    "for i in range(len(pre)):\n",
    "    ppp,sss = [],[]\n",
    "    names = []\n",
    "    dco,dpro = [],[]\n",
    "    for j in range(len(pre[i])):\n",
    "        ppp.append(precat[i].pmax.values[j])\n",
    "        sss.append(precat[i].sigma_extent.values[j])\n",
    "        y = np.around((precat[i].pt_position_y.values[j]*(4/1000)),1)\n",
    "        if precat[i].cell_type.values[j] == 'Unsure':\n",
    "            names.append(cell_types[i]+', y='+str(y))\n",
    "        else:\n",
    "            preid = str(client.materialize.query_table('allen_soma_coarse_cell_class_model_v1',\n",
    "                                          filter_equal_dict = {'pt_root_id':precat[i].pt_root_id.values[j]},\n",
    "                                          select_columns=['id','pt_root_id']).id.values[0])\n",
    "            names.append(cell_types[i]+'_'+preid+', y='+str(y))\n",
    "    pcat.append(ppp)\n",
    "    sigcat.append(sss)\n",
    "    cellname_array.append(names)\n",
    "    \n",
    "# pcat_thresh,sigcat_thresh = [],[]\n",
    "# for i in range(len(pre)):\n",
    "#     ppp,sss = [],[]\n",
    "#     for j in range(len(pre[i])):\n",
    "#         ppp.append(precat[i].pmax_thresh.values[j])\n",
    "#         sss.append(precat[i].sigma_extent_thresh.values[j])\n",
    "#     pcat_thresh.append(ppp)\n",
    "#     sigcat_thresh.append(sss)"
   ]
  },
  {
   "cell_type": "code",
   "execution_count": null,
   "id": "80da02a6-35c5-417d-8dfb-87147f95baca",
   "metadata": {},
   "outputs": [],
   "source": [
    "pdepth,predepth = [],[]\n",
    "for k in range(len(pcat[0][0])):\n",
    "    beh,deh = [],[]\n",
    "    for i in range(len(pcat)):\n",
    "        bah,dah = [],[]\n",
    "        for j in range(len(pcat[i])):\n",
    "            bah.append(pcat[i][j][k])\n",
    "            dah.append(np.around((precat[i].pt_position_y.values[j]*(4/1000)),1))\n",
    "        beh.append(bah)\n",
    "        deh.append(dah)\n",
    "    pdepth.append(beh)\n",
    "    predepth.append(deh)\n",
    "    \n",
    "# pdepth_thresh,predepth_thresh = [],[]\n",
    "# for k in range(len(pcat_thresh[0][0])):\n",
    "#     beh,deh = [],[]\n",
    "#     for i in range(len(pcat_thresh)):\n",
    "#         bah,dah = [],[]\n",
    "#         for j in range(len(pcat_thresh[i])):\n",
    "#             bah.append(pcat_thresh[i][j][k])\n",
    "#             dah.append(np.around((precat[i].pt_position_y.values[j]*(4/1000)),1))\n",
    "#         beh.append(bah)\n",
    "#         deh.append(dah)\n",
    "#     pdepth_thresh.append(beh)\n",
    "#     predepth_thresh.append(deh)"
   ]
  },
  {
   "cell_type": "code",
   "execution_count": null,
   "id": "52a46dcb-951d-4510-9aa8-5b638bf35b8c",
   "metadata": {},
   "outputs": [],
   "source": [
    "typename_array = []\n",
    "for i in range(len(cell_types)):\n",
    "    typename_array.append(cell_types[i]+', n='+str(len(pre[i])))"
   ]
  },
  {
   "cell_type": "code",
   "execution_count": null,
   "id": "925b96c7-9f13-474a-af23-b7248bfd0bc4",
   "metadata": {},
   "outputs": [],
   "source": [
    "fig, ax = plt.subplots()\n",
    "fig.set_size_inches(20,7)\n",
    "\n",
    "im, cbar = plot.heatmap(pmax_comb, target_list, typename_array, ax=ax, cbar_kw={'shrink':0.8},\n",
    "                   cmap=\"plasma\", cbarlabel=\"Connection Probability\", norm=LogNorm(vmin=0.008, vmax=1.0, clip=True))\n",
    "texts = plot.annotate_heatmap(im, nconn_comb, nprobe_comb)\n",
    "\n",
    "fig.tight_layout()\n",
    "plt.show()\n",
    "fig.savefig('./plots/heatmaps/public---inh_pmaxheatmap-{0:s}-{1:s}bin.pdf'.format(str(up),str(r_interval)))"
   ]
  },
  {
   "cell_type": "markdown",
   "id": "e4d686a1-2f46-4621-8810-1911dd166e68",
   "metadata": {},
   "source": [
    "Now to make the above plot, but for each cell, organized by depth..."
   ]
  },
  {
   "cell_type": "code",
   "execution_count": null,
   "id": "81710e34-c654-491a-ae39-aaa9db5cf751",
   "metadata": {},
   "outputs": [],
   "source": [
    "for i in tqdm(range(len(pcat))):\n",
    "    fig, ax = plt.subplots()\n",
    "    fig.set_size_inches(22,10)\n",
    "    \n",
    "    warnings.filterwarnings(\"ignore\")\n",
    "    im, cbar = plot.heatmap(pcat[i], target_list, cellname_array[i], ax=ax, cbar_kw={'shrink':0.8},\n",
    "                       cmap=\"plasma\", cbarlabel=\"Connection Probability\", norm=LogNorm(vmin=0.008, vmax=1.0, clip=True))\n",
    "    texts = plot.annotate_heatmap(im, nconn[i], nprobe[i])\n",
    "\n",
    "    fig.tight_layout()\n",
    "    plt.close(fig)\n",
    "    fig.savefig('./plots/{0:s}/pmaxheatmap-{1:s}-{2:s}bin.pdf'.format(cell_types[i],str(up),str(r_interval)))\n",
    "    fig.savefig('./plots/heatmaps/{0:s}_pmaxheatmap-{1:s}-{2:s}bin.pdf'.format(cell_types[i],str(up),str(r_interval)))"
   ]
  },
  {
   "cell_type": "code",
   "execution_count": null,
   "id": "7a5adb0c-0390-4d71-a8fd-e845edf66313",
   "metadata": {},
   "outputs": [],
   "source": [
    "for i in tqdm(range(len(pcat))):\n",
    "    fig, ax = plt.subplots()\n",
    "    fig.set_size_inches(22,10)\n",
    "    \n",
    "    warnings.filterwarnings(\"ignore\")\n",
    "    im, cbar = plot.heatmap(sigcat[i], target_list, cellname_array[i], ax=ax, cbar_kw={'shrink':0.8},\n",
    "                       cmap=\"plasma\", cbarlabel=\"Sigma\")\n",
    "    texts = plot.annotate_heatmap(im, nconn[i], nprobe[i], valfmt=\"{x:.1f}\")\n",
    "\n",
    "    fig.tight_layout()\n",
    "    plt.close(fig)\n",
    "    fig.savefig('./plots/{0:s}/sigmaheatmap-{1:s}-{2:s}bin.pdf'.format(cell_types[i],str(up),str(r_interval)))\n",
    "    fig.savefig('./plots/heatmaps/{0:s}_sigmaheatmap-{1:s}-{2:s}bin.pdf'.format(cell_types[i],str(up),str(r_interval)))"
   ]
  },
  {
   "cell_type": "code",
   "execution_count": null,
   "id": "c0369588-4cfd-4577-a8af-22c5661a5e02",
   "metadata": {},
   "outputs": [],
   "source": [
    "fig, ax = plt.subplots(int(len(pdepth[0])),8)\n",
    "fig.set_size_inches(22,17)\n",
    "\n",
    "for i in range(len(pdepth[0])):\n",
    "    for j in range(8):\n",
    "        ax[i,j].plot(predepth[j][i],pdepth[j][i],marker='o')\n",
    "        ax[i,0].set_ylabel(cell_types[i])\n",
    "        ax[i,j].set_ylim(-.05,1.05)\n",
    "        ax[0,j].set_title(target_list[j])\n",
    "        fig.tight_layout()\n",
    "fig.savefig('./plots/heatmaps/public--lowlayertargets-{0:s}-{1:s}bin.pdf'.format(str(up),str(r_interval)))"
   ]
  },
  {
   "cell_type": "code",
   "execution_count": null,
   "id": "504ca486-cd15-4996-84b4-0f5be3173675",
   "metadata": {},
   "outputs": [],
   "source": [
    "fig, ax = plt.subplots(int(len(pdepth[0])),11)\n",
    "fig.set_size_inches(22,17)\n",
    "\n",
    "for i in tqdm(range(len(pdepth[0]))):\n",
    "    for j in range(11):\n",
    "        ax[i,j].plot(predepth[j+8][i],pdepth[j+8][i],marker='o')\n",
    "        ax[i,0].set_ylabel(cell_types[i])\n",
    "        ax[i,j].set_ylim(-.05,1.05)\n",
    "        ax[0,j].set_title(target_list[j+8])\n",
    "        fig.tight_layout()\n",
    "fig.savefig('./plots/heatmaps/public--highlayertargets-{0:s}-{1:s}bin.pdf'.format(str(up),str(r_interval)))"
   ]
  },
  {
   "cell_type": "code",
   "execution_count": null,
   "id": "14e5a27f-67a2-45b8-b85e-ff96076b0d46",
   "metadata": {},
   "outputs": [],
   "source": [
    "reducer = umap.UMAP()"
   ]
  },
  {
   "cell_type": "markdown",
   "id": "6a67ff3e-ef14-4b14-9626-15a0f4dfe493",
   "metadata": {},
   "source": [
    "    UMAP(a=None, angular_rp_forest=False, b=None,\n",
    "\n",
    "         force_approximation_algorithm=False, init='spectral', learning_rate=1.0,\n",
    "\n",
    "         local_connectivity=1.0, low_memory=False, metric='euclidean',\n",
    "\n",
    "         metric_kwds=None, min_dist=0.1, n_components=2, n_epochs=None,\n",
    "\n",
    "         n_neighbors=15, negative_sample_rate=5, output_metric='euclidean',\n",
    "\n",
    "         output_metric_kwds=None, random_state=42, repulsion_strength=1.0,\n",
    "\n",
    "         set_op_mix_ratio=1.0, spread=1.0, target_metric='categorical',\n",
    "\n",
    "         target_metric_kwds=None, target_n_neighbors=-1, target_weight=0.5,\n",
    "\n",
    "         transform_queue_size=4.0, transform_seed=42, unique=False, verbose=False)"
   ]
  },
  {
   "cell_type": "code",
   "execution_count": null,
   "id": "6c79c145-71c7-43e5-94c2-ff99b60b3636",
   "metadata": {},
   "outputs": [],
   "source": [
    "target_list"
   ]
  },
  {
   "cell_type": "code",
   "execution_count": null,
   "id": "fe14c057-8ea3-4a29-a2e5-b134fa84ad7d",
   "metadata": {},
   "outputs": [],
   "source": [
    "exc_targets = []\n",
    "for i in range(len(target_list)):\n",
    "    exists = target_list[i] in cell_types\n",
    "    if exists == False:\n",
    "        exc_targets.append(target_list[i])\n",
    "\n",
    "exc_targets_thresh = []\n",
    "for i in range(len(target_list)):\n",
    "    exists = target_list[i] in cell_types\n",
    "    if exists == False:\n",
    "        exc_targets_thresh.append(target_list[i]+\"_thresh\")\n",
    "        \n",
    "inh_targets_thresh = []\n",
    "for i in range(len(target_list)):\n",
    "    exists = target_list[i] in cell_types\n",
    "    if exists == True:\n",
    "        inh_targets_thresh.append(target_list[i]+\"_thresh\")"
   ]
  },
  {
   "cell_type": "code",
   "execution_count": null,
   "id": "71bd58d7-7f92-453d-ae78-882fff89be17",
   "metadata": {},
   "outputs": [],
   "source": [
    "# \"num_targets\",\n",
    "# \"num_syn\",\n",
    "# \"pmax\",\n",
    "# \"sigma_ext\","
   ]
  },
  {
   "cell_type": "code",
   "execution_count": null,
   "id": "e5747c5d-501a-48a5-83d5-55179af2b504",
   "metadata": {},
   "outputs": [],
   "source": [
    "# comb = cat[target_list].values\n",
    "# scaled_comb = StandardScaler().fit_transform(comb)\n",
    "# embed_comb = reducer.fit_transform(scaled_comb)\n",
    "# embed_comb.shape"
   ]
  },
  {
   "cell_type": "code",
   "execution_count": null,
   "id": "a89e1c32-2542-442f-9261-758f0f3a168b",
   "metadata": {},
   "outputs": [],
   "source": [
    "fig, axs = plt.subplots(numhypers, 3, figsize=(14, 81))\n",
    "\n",
    "numhypers = 15\n",
    "hype = []\n",
    "neigh = np.floor(np.linspace(15,25,numhypers))\n",
    "mindist = np.around(np.linspace(0.,.2,numhypers),4)\n",
    "hype.append(neigh)\n",
    "hype.append(mindist)\n",
    "\n",
    "for i in tqdm(range(numhypers)):\n",
    "    reducer = umap.UMAP(n_neighbors=int(hype[0][i]),min_dist=0.15)\n",
    "\n",
    "    comb = cat[target_list].values\n",
    "    reducer.fit(comb)\n",
    "    embed_comb = reducer.transform(comb)\n",
    "    \n",
    "    comb_exc = cat[exc_targets[0:5]].values\n",
    "    reducer.fit(comb_exc)\n",
    "    embed_comb_exc = reducer.transform(comb_exc)\n",
    "    \n",
    "    comb_inh = cat[cell_types[:-1]].values\n",
    "    reducer.fit(comb_inh)\n",
    "    embed_comb_inh = reducer.transform(comb_inh)\n",
    "    \n",
    "    sns.scatterplot(data=cat, x=embed_comb[:, 0], y=embed_comb[:, 1], hue=cat.cell_type, size='num_targets', sizes=(30,130),\n",
    "               ax=axs[i,0], legend=False).set_ylabel('n_neigh='+str(hype[0][i]), fontsize=15)\n",
    "    axs[0,0].set_title('Targets={0:s}'.format(str(target_list)), fontsize=10)\n",
    "    axs[i,0].set_aspect('equal')\n",
    "    \n",
    "    sns.scatterplot(data=cat, x=embed_comb_exc[:, 0], y=embed_comb_exc[:, 1], hue=cat.cell_type, size='num_targets', sizes=(30,130),\n",
    "               ax=axs[i,1])\n",
    "    axs[0,1].set_title('Targets={0:s}'.format(str(exc_targets[0:5])), fontsize=10)\n",
    "    axs[i,1].set_aspect('equal')\n",
    "    axs[i,1].legend(bbox_to_anchor=(1.05, 1), loc=2, borderaxespad=0.,fontsize=10)\n",
    "    \n",
    "    sns.scatterplot(data=cat, x=embed_comb_inh[:, 0], y=embed_comb_inh[:, 1], hue=cat.cell_type, size='num_targets', sizes=(30,130),\n",
    "                ax=axs[i,2], legend=False)\n",
    "    axs[0,2].set_title('Targets={0:s}'.format(str(cell_types)), fontsize=10)\n",
    "    axs[i,2].set_aspect('equal')\n",
    "    \n",
    "fig.tight_layout()\n",
    "fig.savefig('./plots/cluster/public---neigh=15-25_min_dist=0.15_{0:s}-{1:s}bin.pdf'.format(str(up),str(r_interval)))"
   ]
  },
  {
   "cell_type": "code",
   "execution_count": null,
   "id": "d9e8edb3-0df8-40f0-ab46-f84c7a896785",
   "metadata": {},
   "outputs": [],
   "source": [
    "fig, axs = plt.subplots(numhypers, 3, figsize=(14, 81))\n",
    "\n",
    "numhypers = 15\n",
    "hype = []\n",
    "neigh = np.floor(np.linspace(3,40,numhypers))\n",
    "mindist = np.around(np.linspace(0.,.2,numhypers),4)\n",
    "hype.append(neigh)\n",
    "hype.append(mindist)\n",
    "\n",
    "for i in tqdm(range(numhypers)):\n",
    "    reducer = umap.UMAP(min_dist=hype[1][i],n_neighbors=25)\n",
    "\n",
    "    comb = cat[target_list].values\n",
    "    reducer.fit(comb)\n",
    "    embed_comb = reducer.transform(comb)\n",
    "    \n",
    "    comb_exc = cat[exc_targets[0:5]].values\n",
    "    reducer.fit(comb_exc)\n",
    "    embed_comb_exc = reducer.transform(comb_exc)\n",
    "    \n",
    "    comb_inh = cat[cell_types[:-1]].values\n",
    "    reducer.fit(comb_inh)\n",
    "    embed_comb_inh = reducer.transform(comb_inh)\n",
    "    \n",
    "    sns.scatterplot(data=cat, x=embed_comb[:, 0], y=embed_comb[:, 1], hue=cat.cell_type, size='num_targets', sizes=(30,130),\n",
    "               ax=axs[i,0], legend=False).set_ylabel('min_dist='+str(hype[1][i]), fontsize=15)\n",
    "    axs[0,0].set_title('Targets={0:s}'.format(str(target_list)), fontsize=10)\n",
    "    axs[i,0].set_aspect('equal')\n",
    "    \n",
    "    sns.scatterplot(data=cat, x=embed_comb_exc[:, 0], y=embed_comb_exc[:, 1], hue=cat.cell_type, size='num_targets', sizes=(30,130),\n",
    "               ax=axs[i,1])\n",
    "    axs[0,1].set_title('Targets={0:s}'.format(str(exc_targets[0:5])), fontsize=10)\n",
    "    axs[i,1].set_aspect('equal')\n",
    "    axs[i,1].legend(bbox_to_anchor=(1.05, 1), loc=2, borderaxespad=0.,fontsize=9)\n",
    "    \n",
    "    sns.scatterplot(data=cat, x=embed_comb_inh[:, 0], y=embed_comb_inh[:, 1], hue=cat.cell_type, size='num_targets', sizes=(30,130),\n",
    "                ax=axs[i,2], legend=False)\n",
    "    axs[0,2].set_title('Targets={0:s}'.format(str(cell_types)), fontsize=10)\n",
    "    axs[i,2].set_aspect('equal')\n",
    "    \n",
    "fig.tight_layout()\n",
    "fig.savefig('./plots/cluster/public---min_dist=0-.2_neigh=25-{0:s}-{1:s}bin.pdf'.format(str(up),str(r_interval)))"
   ]
  },
  {
   "cell_type": "code",
   "execution_count": null,
   "id": "e78b3b94-a6a0-49e6-bef8-ee36f6e34f4c",
   "metadata": {},
   "outputs": [],
   "source": [
    "# sns.set(rc={'figure.figsize':(10,10)})\n",
    "# sns.scatterplot(data=cat, x=embed_comb[:, 0], y=embed_comb[:, 1], hue=cat.cell_type, size='num_targets')"
   ]
  },
  {
   "cell_type": "code",
   "execution_count": null,
   "id": "202afdfb-5b21-40d4-90fc-fe30a5fc4255",
   "metadata": {},
   "outputs": [],
   "source": [
    "fig, axs = plt.subplots(2, 2, figsize=(11, 11))\n",
    "\n",
    "sns.scatterplot(data=cat, x=embed_comb_exc[:, 0], y=embed_comb_exc[:, 1], hue=cat.cell_type, size='num_targets', sizes=(50,300),\n",
    "               ax=axs[0,0]).set_title('Excitatory Targets', fontsize=12)\n",
    "axs[0,0].set_aspect('equal')\n",
    "sns.scatterplot(data=cat, x=embed_comb_inh[:, 0], y=embed_comb_inh[:, 1], hue=cat.cell_type, size='num_targets', sizes=(50,300),\n",
    "               ax=axs[0,1], legend=False).set_title('Inhibitory Targets', fontsize=12);\n",
    "axs[0,1].set_aspect('equal')\n",
    "sns.scatterplot(data=cat, x=embed_comb_exc_thresh[:, 0], y=embed_comb_exc_thresh[:, 1], hue=cat.cell_type, size='num_targets', sizes=(50,300),\n",
    "               ax=axs[1,0], legend=False).set_title('Excitatory Targets, Dist Threshold PostSyn->PostSoma=40', fontsize=12)\n",
    "axs[1,0].set_aspect('equal')\n",
    "sns.scatterplot(data=cat, x=embed_comb_inh_thresh[:, 0], y=embed_comb_inh_thresh[:, 1], hue=cat.cell_type, size='num_targets', sizes=(50,300),\n",
    "               ax=axs[1,1], legend=False).set_title('Inhibitory Targets, Dist Threshold PostSyn->PostSoma=40', fontsize=12)\n",
    "axs[1,1].set_aspect('equal');\n",
    "fig.tight_layout()"
   ]
  },
  {
   "cell_type": "code",
   "execution_count": null,
   "id": "b79403bd-bdb9-48ea-8a74-e7f3831b8363",
   "metadata": {},
   "outputs": [],
   "source": [
    "fig, axs = plt.subplots(2, 2, figsize=(13, 13))\n",
    "\n",
    "sns.scatterplot(data=cat, x=embed_comb_exc[:, 0], y=embed_comb_exc[:, 1], hue=cat.cell_type, size='num_syn', sizes=(50,300),\n",
    "               ax=axs[0,0]).set_title('Excitatory Targets', fontsize=12)\n",
    "axs[0,0].set_aspect('equal')\n",
    "sns.scatterplot(data=cat, x=embed_comb_inh[:, 0], y=embed_comb_inh[:, 1], hue=cat.cell_type, size='num_syn', sizes=(50,300),\n",
    "               ax=axs[0,1], legend=False).set_title('Inhibitory Targets', fontsize=12);\n",
    "axs[0,1].set_aspect('equal')\n",
    "sns.scatterplot(data=cat, x=embed_comb_exc_thresh[:, 0], y=embed_comb_exc_thresh[:, 1], hue=cat.cell_type, size='num_syn', sizes=(50,300),\n",
    "               ax=axs[1,0], legend=False).set_title('Excitatory Targets, Dist Threshold PostSyn->PostSoma=40', fontsize=12)\n",
    "axs[1,0].set_aspect('equal')\n",
    "sns.scatterplot(data=cat, x=embed_comb_inh_thresh[:, 0], y=embed_comb_inh_thresh[:, 1], hue=cat.cell_type, size='num_syn', sizes=(50,300),\n",
    "               ax=axs[1,1], legend=False).set_title('Inhibitory Targets, Dist Threshold PostSyn->PostSoma=40', fontsize=12)\n",
    "axs[1,1].set_aspect('equal');\n",
    "fig.tight_layout()"
   ]
  },
  {
   "cell_type": "code",
   "execution_count": null,
   "id": "d7e1ab9c-6eae-4865-ba53-67cde8e5a8db",
   "metadata": {},
   "outputs": [],
   "source": [
    "# fig, ax = plt.subplots(1,1)\n",
    "# fig.set_size_inches(15,15)\n",
    "\n",
    "# plt.scatter(\n",
    "#     embed_comb[:, 0],\n",
    "#     embed_comb[:, 1],\n",
    "#     hue=cat.cell_type, cmap='Spectral')\n",
    "# plt.gca().set_aspect('equal', 'datalim')\n",
    "# plt.title('UMAP projection of all cells', fontsize=24)"
   ]
  },
  {
   "cell_type": "code",
   "execution_count": null,
   "id": "6f3c3ddd-0a19-4c97-85cb-898a92451463",
   "metadata": {},
   "outputs": [],
   "source": [
    "warnings.filterwarnings('ignore')\n",
    "\n",
    "fig, ax = plt.subplots(int(len(pmax[0])),1)\n",
    "fig.set_size_inches(7,118)\n",
    "\n",
    "for j in range(len(pmax)):\n",
    "    for i in range(len(pmax[0])):\n",
    "        ax[i].scatter(sigs[j][i],pmax[j][i],label=cell_types[j],alpha=.6)\n",
    "        ax[i].set_xlim(-3,203)\n",
    "        ax[i].set_ylim(-.03,1.03)\n",
    "        ax[i].set_xlabel('sigma (microns)', fontsize=10)\n",
    "        ax[i].set_ylabel(r'$p_{max}$', fontsize=10)\n",
    "        ax[i].set_title(target_list[i],fontsize=14)\n",
    "        ax[i].legend()\n",
    "\n",
    "fig.tight_layout()\n",
    "fig.savefig('./plots/public--MLEpmaxvsig-inh-{0:s}-{1:s}bin.pdf'.format(str(up),str(r_interval)))"
   ]
  },
  {
   "cell_type": "code",
   "execution_count": null,
   "id": "df1d48af-68f0-4c65-a8de-f3f9f5442289",
   "metadata": {},
   "outputs": [],
   "source": []
  },
  {
   "cell_type": "code",
   "execution_count": null,
   "id": "639dcec3-76d3-4288-afbf-eabc1ecd1acb",
   "metadata": {},
   "outputs": [],
   "source": []
  }
 ],
 "metadata": {
  "kernelspec": {
   "display_name": "Python 3 (ipykernel)",
   "language": "python",
   "name": "python3"
  },
  "language_info": {
   "codemirror_mode": {
    "name": "ipython",
    "version": 3
   },
   "file_extension": ".py",
   "mimetype": "text/x-python",
   "name": "python",
   "nbconvert_exporter": "python",
   "pygments_lexer": "ipython3",
   "version": "3.8.10"
  }
 },
 "nbformat": 4,
 "nbformat_minor": 5
}
