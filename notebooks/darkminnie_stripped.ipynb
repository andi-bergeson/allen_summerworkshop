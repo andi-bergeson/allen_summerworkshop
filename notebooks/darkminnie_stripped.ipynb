{
 "cells": [
  {
   "cell_type": "markdown",
   "id": "5d6e3641-5007-45c4-acea-9318e006444a",
   "metadata": {},
   "source": [
    "    Should I ever need to use client.annotation.get_annotation ? (JSON rep of data)"
   ]
  },
  {
   "cell_type": "code",
   "execution_count": null,
   "id": "896fa5e3-fd26-4862-ab7e-92a1a6154b8d",
   "metadata": {},
   "outputs": [],
   "source": [
    "from caveclient import CAVEclient\n",
    "import pandas as pd\n",
    "import numpy as np\n",
    "from matplotlib import pyplot as plt\n",
    "import seaborn as sns\n",
    "%matplotlib inline"
   ]
  },
  {
   "cell_type": "code",
   "execution_count": null,
   "id": "0786ddf6-da85-493a-b3f6-47ce6ab7a142",
   "metadata": {},
   "outputs": [],
   "source": [
    "def class_spitter(df):\n",
    "    classes = np.unique(df.classification_system)\n",
    "    cellarray = []\n",
    "    for i in range(len(classes)):\n",
    "        new = df.query(f\"classification_system in @classes[{i}]\")\n",
    "        cellarray.append(new)\n",
    "    return cellarray\n",
    "\n",
    "def type_spitter(df):\n",
    "    types = np.unique(df.cell_type)\n",
    "    cellarray = []\n",
    "    for i in range(len(types)):\n",
    "        new = df.query(f\"cell_type in @types[{i}]\")\n",
    "        cellarray.append(new)\n",
    "    return cellarray"
   ]
  },
  {
   "cell_type": "code",
   "execution_count": null,
   "id": "69ede690-723d-41bb-b84d-f7f1d6499261",
   "metadata": {},
   "outputs": [],
   "source": [
    "def Eucdistance_split(pre,post):\n",
    "    x_pre,y_pre,z_pre = np.array(pre.pt_position_x)*4,np.array(pre.pt_position_y)*4,np.array(pre.pt_position_z)*40\n",
    "    x_pos,y_pos,z_pos = np.array(post.pt_position_x)*4,np.array(post.pt_position_y)*4,np.array(post.pt_position_z)*40\n",
    "    d = np.zeros(len(post))\n",
    "    for i in range(len(post)):\n",
    "        # divide by 1000 to convert to microns\n",
    "        d[i] = np.sqrt((x_pre-x_pos[i])**2 + (y_pre-y_pos[i])**2 + (z_pre-z_pos[i])**2) / 1000.\n",
    "    return d\n",
    "\n",
    "def Raddistance_split(pre,post):\n",
    "    x_pre,z_pre = np.array(pre.pt_position_x)*4,np.array(pre.pt_position_z)*40\n",
    "    x_pos,z_pos = np.array(post.pt_position_x)*4,np.array(post.pt_position_z)*40\n",
    "    d = np.zeros(len(post))\n",
    "    for i in range(len(post)):\n",
    "        # divide by 1000 to convert to microns\n",
    "        d[i] = np.sqrt((x_pre-x_pos[i])**2 + (z_pre-z_pos[i])**2) / 1000.\n",
    "    return d"
   ]
  },
  {
   "cell_type": "code",
   "execution_count": null,
   "id": "53b6cd9a-4829-430b-92bb-4eed5ff13167",
   "metadata": {},
   "outputs": [],
   "source": [
    "client = CAVEclient(global_only=True)\n",
    "# https://annotationframeworkclient.readthedocs.io/en/stable/guide/authentication.html#new-token\n",
    "client = CAVEclient('minnie65_phase3_v1')\n",
    "client.info.get_datastack_info()"
   ]
  },
  {
   "cell_type": "code",
   "execution_count": null,
   "id": "0c6cee6b-fb9e-4711-8994-686246944c91",
   "metadata": {},
   "outputs": [],
   "source": [
    "#client.materialize.get_tables()"
   ]
  },
  {
   "cell_type": "code",
   "execution_count": null,
   "id": "ec7978a4-45ce-48b7-be40-d13c03415d68",
   "metadata": {},
   "outputs": [],
   "source": [
    "df = client.materialize.query_table('allen_v1_column_types_slanted',split_positions=True)\n",
    "print(len(df))\n",
    "df[0:1]"
   ]
  },
  {
   "cell_type": "code",
   "execution_count": null,
   "id": "ea971d64-1b55-42c6-9c1c-c7c1ec071f1e",
   "metadata": {},
   "outputs": [],
   "source": [
    "# start cell\n",
    "root_id = [864691135428608048]\n",
    "boy = df.query(\"pt_root_id in @root_id\")\n",
    "# post-synaptic partners of starter cell\n",
    "syn_unfiltered = client.materialize.query_table('synapses_pni_2',filter_equal_dict={'pre_pt_root_id':root_id[0]})"
   ]
  },
  {
   "cell_type": "code",
   "execution_count": null,
   "id": "e132ebc1-eeb1-4797-918c-a28aeed798ca",
   "metadata": {},
   "outputs": [],
   "source": [
    "unique_syn = np.unique(syn_unfiltered.post_pt_root_id)\n",
    "print(\"There are {0:g} synaptic connections from {1:g} cells (unfiltered for mergers).\".format(len(syn_unfiltered),len(unique_syn)))"
   ]
  },
  {
   "cell_type": "markdown",
   "id": "82e974b1-b81d-4066-9ea4-502643395fd8",
   "metadata": {},
   "source": [
    "    Now to see how many of those cells are nuclei vs glial cells..."
   ]
  },
  {
   "cell_type": "code",
   "execution_count": null,
   "id": "562bfa7f-98ac-40db-89a6-6ec6a75ce9f1",
   "metadata": {},
   "outputs": [],
   "source": [
    "correct_soma_table = client.info.get_datastack_info()['soma_table']\n",
    "nuclei_unmasked = client.materialize.query_table(correct_soma_table,split_positions=True)\n",
    "# new df of just neurons (no glial cells)\n",
    "nuclei = nuclei_unmasked.query('cell_type == \"neuron\"').reset_index(drop=True)\n",
    "# new column saying how many neurons have the same root_id\n",
    "nuclei['num_soma'] = nuclei.groupby('pt_root_id').transform('count')['valid']\n",
    "# mask the df to throw out merged nuclei (same root_id being assigned to multiple neurons)\n",
    "mask_nuclei = nuclei['num_soma'] < 2\n",
    "nuclei_full = nuclei[mask_nuclei].reset_index(drop=True)"
   ]
  },
  {
   "cell_type": "code",
   "execution_count": null,
   "id": "80b77626-2297-4268-a5de-26efe9779e5e",
   "metadata": {},
   "outputs": [],
   "source": [
    "unique_nuc = np.unique(nuclei_full.pt_root_id)\n",
    "soma_full = client.materialize.query_table('allen_soma_coarse_cell_class_model_v1',filter_in_dict = {'pt_root_id':unique_nuc},\n",
    "                                          split_positions=True)"
   ]
  },
  {
   "cell_type": "code",
   "execution_count": null,
   "id": "3672ff43-9191-44b5-9caa-2db8c6f4ff4f",
   "metadata": {},
   "outputs": [],
   "source": [
    "print(len(soma_full))\n",
    "soma_full[0:1]"
   ]
  },
  {
   "cell_type": "code",
   "execution_count": null,
   "id": "d1f81815-4bb0-4a98-a16b-8529b8982e0d",
   "metadata": {},
   "outputs": [],
   "source": [
    "syn_nuc = syn_unfiltered.query(\"post_pt_root_id in @unique_nuc\").reset_index(drop=True)"
   ]
  },
  {
   "cell_type": "code",
   "execution_count": null,
   "id": "7bf6a7ff-c86e-46cd-a992-e2cbddd57212",
   "metadata": {},
   "outputs": [],
   "source": [
    "syn_nuc['num_syn'] = syn_nuc.groupby('post_pt_root_id').transform('count')['valid']\n",
    "print(len(syn_nuc))\n",
    "syn_nuc[0:1]"
   ]
  },
  {
   "cell_type": "code",
   "execution_count": null,
   "id": "b1385c88-c49b-4b10-8cf0-97943517ef2d",
   "metadata": {},
   "outputs": [],
   "source": [
    "syn_nuc.rename(columns={'post_pt_root_id':'pt_root_id'}, inplace=True)"
   ]
  },
  {
   "cell_type": "code",
   "execution_count": null,
   "id": "94d18d0d-be95-4cd4-ba01-1aba42e8af16",
   "metadata": {},
   "outputs": [],
   "source": [
    "main_duplicates = pd.merge(soma_full,syn_nuc,on='pt_root_id',how='outer')[0:61847] # any cells after 61847 are not in the soma table\n",
    "new_left = pd.merge(soma_full,syn_nuc,on='pt_root_id',how='left')\n",
    "main = new_left.drop_duplicates(subset='pt_root_id', keep='first').reset_index(drop=True)"
   ]
  },
  {
   "cell_type": "code",
   "execution_count": null,
   "id": "55b7ca26-b3fb-4f26-b1bc-e9364a2d85fa",
   "metadata": {},
   "outputs": [],
   "source": [
    "main = main.drop(columns=['valid_y', 'pre_pt_supervoxel_id', 'post_pt_supervoxel_id', 'pre_pt_position', 'post_pt_position'])"
   ]
  },
  {
   "cell_type": "code",
   "execution_count": null,
   "id": "46990bc2-1c91-445f-a9ef-55505fde6853",
   "metadata": {},
   "outputs": [],
   "source": [
    "main['pre_pt_root_id'] = main['pre_pt_root_id'].fillna(0)\n",
    "main['num_syn'] = main['num_syn'].fillna(0)"
   ]
  },
  {
   "cell_type": "code",
   "execution_count": null,
   "id": "fcad5421-2a84-4c9c-a9f6-29e7a2a7286b",
   "metadata": {},
   "outputs": [],
   "source": [
    "#weird = [864691136311986237]\n",
    "#new_outer.query('pt_root_id in @weird')"
   ]
  },
  {
   "cell_type": "code",
   "execution_count": null,
   "id": "d42bedcc-d9c4-466b-be1b-e2863da0b4f4",
   "metadata": {},
   "outputs": [],
   "source": [
    "#good = [864691134884758266]\n",
    "#new_outer.query('pt_root_id in @good')"
   ]
  },
  {
   "cell_type": "code",
   "execution_count": null,
   "id": "bd418b8f-b5a1-4052-9a2a-14c975e2b3df",
   "metadata": {},
   "outputs": [],
   "source": [
    "#this takes forever\n",
    "#%%time\n",
    "main['d'] = Eucdistance_split(boy,main)\n",
    "main['r'] = Raddistance_split(boy,main)"
   ]
  },
  {
   "cell_type": "code",
   "execution_count": null,
   "id": "557ef482-811e-430c-896b-032a5ce9b850",
   "metadata": {},
   "outputs": [],
   "source": [
    "main[0:1]"
   ]
  },
  {
   "cell_type": "code",
   "execution_count": null,
   "id": "2635f99f-1fbd-4530-afab-ee3077ed37fc",
   "metadata": {},
   "outputs": [],
   "source": [
    "unique_syn_nuc = np.unique(syn_nuc.pt_root_id)\n",
    "syn = main.query('pt_root_id in @unique_syn_nuc')\n",
    "nonsyn = main.query('pt_root_id not in @unique_syn_nuc')"
   ]
  },
  {
   "cell_type": "code",
   "execution_count": null,
   "id": "b2f7b14a-ca48-44f0-a2c4-26801afa3314",
   "metadata": {},
   "outputs": [],
   "source": [
    "syn_class = class_spitter(syn)\n",
    "nonsyn_class = class_spitter(nonsyn)"
   ]
  },
  {
   "cell_type": "code",
   "execution_count": null,
   "id": "de7ea250-14c9-4c2b-95c4-58e6783010cf",
   "metadata": {},
   "outputs": [],
   "source": [
    "fig, ax = plt.subplots(2,1)\n",
    "fig.set_size_inches(17,11)\n",
    "\n",
    "ax[0].hist(syn_class[0]['r'], 200, label='Synaptic Partners', density=False, alpha=1.0)\n",
    "ax[0].hist(nonsyn_class[0]['r'], 300, label='Non-Synaptic Partners', density=False, alpha=0.6)\n",
    "ax[0].set_title(\"Radial Distance to Excitatory Neurons (density=false)\", fontsize=20)\n",
    "ax[0].set_xlabel(r'$\\mu$m', fontsize=14)\n",
    "ax[0].legend()\n",
    "ax[0].grid()\n",
    "\n",
    "ax[1].hist(syn_class[1]['r'], 100, label='Synaptic Partners', density=False, alpha=1.0)\n",
    "ax[1].hist(nonsyn_class[1]['r'], 200, label='Non-Synaptic Partners', density=False, alpha=0.6)\n",
    "ax[1].set_title(\"Radial Distance to Inhibitory Neurons (density=false)\", fontsize=20)\n",
    "ax[1].set_xlabel(r'$\\mu$m', fontsize=14)\n",
    "ax[1].legend()\n",
    "ax[1].grid()\n",
    "\n",
    "ax[0].set_xlim(-10,1000)\n",
    "ax[1].set_xlim(-10,1000)\n",
    "plt.show()"
   ]
  },
  {
   "cell_type": "code",
   "execution_count": null,
   "id": "36836d81-7c65-4364-b083-f9b8c2e4aa1b",
   "metadata": {},
   "outputs": [],
   "source": [
    "fig, ax = plt.subplots(2,1)\n",
    "fig.set_size_inches(17,11)\n",
    "\n",
    "ax[0].hist(syn_class[0]['r'], 100, label='Synaptic Partners', density=True, alpha=0.6)\n",
    "ax[0].hist(nonsyn_class[0]['r'], 400, label='Non-Synaptic Partners', density=True, alpha=0.6)\n",
    "ax[0].set_title(\"Radial Distance to Excitatory Neurons (density=true)\", fontsize=20)\n",
    "ax[0].set_xlabel(r'$\\mu$m', fontsize=14)\n",
    "ax[0].legend()\n",
    "ax[0].grid()\n",
    "\n",
    "ax[1].hist(syn_class[1]['r'], 60, label='Synaptic Partners', density=True, alpha=0.6)\n",
    "ax[1].hist(nonsyn_class[1]['r'], 300, label='Non-Synaptic Partners', density=True, alpha=0.6)\n",
    "ax[1].set_title(\"Radial Distance to Inhibitory Neurons (density=true)\", fontsize=20)\n",
    "ax[1].set_xlabel(r'$\\mu$m', fontsize=14)\n",
    "ax[1].legend()\n",
    "ax[1].grid()\n",
    "\n",
    "ax[0].set_xlim(-10,1000)\n",
    "ax[1].set_xlim(-10,1000)\n",
    "plt.show()"
   ]
  },
  {
   "cell_type": "code",
   "execution_count": null,
   "id": "1f8829d1-835a-4979-8f6f-b7319265a615",
   "metadata": {},
   "outputs": [],
   "source": [
    "sns.set(rc={'figure.figsize':(20,8)})\n",
    "#weight = syn.eval(\"num_syn / 40\").rename(\"weight\")\n",
    "g = sns.scatterplot(data=syn,x='r',y='num_syn',hue='classification_system', size='size', sizes=(20, 200));\n",
    "#palette = 'deep'\n",
    "g.set(xlim=(0, 250));\n",
    "g.set(ylim=(0, 20));\n",
    "g.set_title('Radial Distance vs number of synapses per soma', fontsize=18);"
   ]
  },
  {
   "cell_type": "code",
   "execution_count": null,
   "id": "a1866258-edb0-41ca-ae7b-8c5a8460858e",
   "metadata": {},
   "outputs": [],
   "source": [
    "#, binwidth=(2, .5)\n",
    "beep = sns.displot(syn, x='r', y='num_syn', cbar=True, height=6, aspect=3);\n",
    "beep.set(xlim=(0, 250));\n",
    "beep.set(ylim=(0, 20));\n",
    "beep.fig.suptitle('Radial distance vs number of synapses per soma', fontsize=16);"
   ]
  },
  {
   "cell_type": "code",
   "execution_count": null,
   "id": "8523d618-469c-4572-bd86-64ad63d2deb1",
   "metadata": {},
   "outputs": [],
   "source": [
    "sns.set(rc={'figure.figsize':(20,8)})\n",
    "#weight = syn.eval(\"num_syn / 40\").rename(\"weight\")\n",
    "g = sns.scatterplot(data=main, x=main.pt_position_x/4., y=main.pt_position_z/40., \n",
    "                    hue='pre_pt_root_id', \n",
    "                    style = 'classification_system', size='num_syn', palette = 'deep');#, sizes=(20, 200));\n",
    "sns.scatterplot(x=boy.pt_position_x/4,\n",
    "               y=boy.pt_position_z/40,\n",
    "               marker='*',color='r',s=300);\n",
    "#g.set(xlim=(0, 250));\n",
    "#g.set(ylim=(0, 20));"
   ]
  },
  {
   "cell_type": "code",
   "execution_count": null,
   "id": "682c2a91-c685-4461-bccd-c71e43b69f51",
   "metadata": {},
   "outputs": [],
   "source": [
    "sns.set_theme(style=\"ticks\")\n",
    "\n",
    "sns.jointplot(x=syn.pt_position_x/4, \n",
    "              y=syn.pt_position_z/40, \n",
    "              kind='hex',color=\"#4CB391\", height=8)#, marginal_kws=dict(bins=35, fill=False))\n",
    "\n",
    "sns.scatterplot(x=boy.pt_position_x/4,\n",
    "               y=boy.pt_position_z/40,\n",
    "               marker='*',color='r',s=300);"
   ]
  },
  {
   "cell_type": "code",
   "execution_count": null,
   "id": "ab5ef6f8-b3d5-4b36-9d2c-8b2b49fb93af",
   "metadata": {},
   "outputs": [],
   "source": [
    "#sns.set(rc={'figure.figsize':(20,8)})\n",
    "#fig, (ax1, ax2) = plt.subplots(ncols=2, sharey=True)\n",
    "#plt.hisplot(syn_class[1], x=\"r\", hue=\"cell_type\", element=\"step\", ax=ax1, height=7, aspect=2)\n",
    "#plt.hisplot(syn_class[0], x=\"r\", hue=\"cell_type\", element=\"step\", ax=ax2, height=7, aspect=2)\n",
    "#g.fig.suptitle('Radial Distance of Excitatory Post-Synaptic Partners, Categorized by Cell Type', fontsize=16);\n",
    "#g.fig.suptitle('Radial Distance of Inhibitory Post-Synaptic Partners, Categorized by Cell Type', fontsize=16);\n",
    "#g.set(xlim=(0, 400));\n",
    "\n",
    "fig, axs = plt.subplots(2, 2, figsize=(20, 14))\n",
    "\n",
    "sns.histplot(data=syn_class[0], x=\"r\", hue='cell_type', element='step', ax=axs[0,0]).set(xlim=(0,400));\n",
    "sns.histplot(data=syn_class[1], x=\"r\", hue='cell_type', element='step', ax=axs[0,1]).set(xlim=(0,400));\n",
    "sns.histplot(data=nonsyn_class[0], x=\"r\", hue='cell_type', element='step', ax=axs[1,0]).set(xlim=(0,400));\n",
    "sns.histplot(data=nonsyn_class[1], x=\"r\", hue='cell_type', element='step', ax=axs[1,1]).set(xlim=(0,400));"
   ]
  },
  {
   "cell_type": "code",
   "execution_count": null,
   "id": "a1bf11a7-a98e-4c60-8a51-d7487cbb6780",
   "metadata": {},
   "outputs": [],
   "source": [
    "import plotly_express as px\n",
    "\n",
    "x = syn['pt_position_x'] / 4\n",
    "y = syn['pt_position_y'] / 4\n",
    "z = syn['pt_position_z'] / 40\n",
    "\n",
    "bep = px.scatter_3d(syn, x=x, y=y, z=z,\n",
    "              color='classification_system', size='num_syn')\n",
    "#px.scatter_3d(boy,x=boy.pt_position_x/4,y=boy.pt_position_y/4,z=boy.pt_position_z/40,symbol='pt_root_id')\n",
    "bep.show()"
   ]
  },
  {
   "cell_type": "code",
   "execution_count": null,
   "id": "7525f17b-042a-4633-b25c-9fe17c9071a4",
   "metadata": {},
   "outputs": [],
   "source": [
    "x_main = main['pt_position_x'] / 4\n",
    "y_main = main['pt_position_y'] / 4\n",
    "z_main = main['pt_position_z'] / 40\n",
    "\n",
    "g = px.scatter_3d(main, x=x_main, y=y_main, z=z_main,\n",
    "              color='pre_pt_root_id', opacity=.1, range_color = [0,1], size=np.ones(len(main)))\n",
    "\n",
    "g.show()"
   ]
  },
  {
   "cell_type": "markdown",
   "id": "3837cd63-71a7-4b8a-99e0-fb0232f2698c",
   "metadata": {},
   "source": [
    " calculate angle to cells from pre_synaptic cell\n",
    " \n",
    " calculate probability of connection, based on type & distance & bla\n",
    " \n",
    " \"What fraction of cells of that type does the starter cell synapse onto (i.e. the starter cell is presynaptic and the target cells are postsynaptic).\n",
    " \n",
    " What is the distribution of total number of synapses from the starter cell onto those cells per cell type\n",
    " \n",
    " What fraction of cells of that type does the starter cell synapse onto (i.e. the starter cell is presynaptic and the target cells are postsynaptic)\n",
    " \n",
    " What is the distribution of total number of synapses from the starter cell onto those cells per cell type\""
   ]
  },
  {
   "cell_type": "code",
   "execution_count": null,
   "id": "3d1f7a7b-8c7c-46c7-b9c6-2c55043409f0",
   "metadata": {},
   "outputs": [],
   "source": []
  },
  {
   "cell_type": "code",
   "execution_count": null,
   "id": "6d948193-83d7-46ea-99f3-bcfc1e9efa6e",
   "metadata": {},
   "outputs": [],
   "source": []
  }
 ],
 "metadata": {
  "kernelspec": {
   "display_name": "Python 3 (ipykernel)",
   "language": "python",
   "name": "python3"
  },
  "language_info": {
   "codemirror_mode": {
    "name": "ipython",
    "version": 3
   },
   "file_extension": ".py",
   "mimetype": "text/x-python",
   "name": "python",
   "nbconvert_exporter": "python",
   "pygments_lexer": "ipython3",
   "version": "3.8.10"
  }
 },
 "nbformat": 4,
 "nbformat_minor": 5
}
