{
 "cells": [
  {
   "cell_type": "code",
   "execution_count": null,
   "id": "896fa5e3-fd26-4862-ab7e-92a1a6154b8d",
   "metadata": {},
   "outputs": [],
   "source": [
    "from caveclient import CAVEclient\n",
    "import pandas as pd\n",
    "import numpy as np\n",
    "from matplotlib import pyplot as plt\n",
    "import matplotlib.animation as animation\n",
    "import seaborn as sns\n",
    "%matplotlib inline"
   ]
  },
  {
   "cell_type": "code",
   "execution_count": null,
   "id": "0786ddf6-da85-493a-b3f6-47ce6ab7a142",
   "metadata": {},
   "outputs": [],
   "source": [
    "def class_spitter(df):\n",
    "    classes = np.unique(df.classification_system)\n",
    "    cellarray = []\n",
    "    for i in range(len(classes)):\n",
    "        new = df.query(f\"classification_system in @classes[{i}]\")\n",
    "        cellarray.append(new)\n",
    "    return cellarray\n",
    "\n",
    "def type_spitter(df):\n",
    "    types = np.unique(df.cell_type)\n",
    "    cellarray = []\n",
    "    for i in range(len(types)):\n",
    "        new = df.query(f\"cell_type in @types[{i}]\")\n",
    "        cellarray.append(new)\n",
    "    return cellarray"
   ]
  },
  {
   "cell_type": "code",
   "execution_count": null,
   "id": "69ede690-723d-41bb-b84d-f7f1d6499261",
   "metadata": {},
   "outputs": [],
   "source": [
    "def Eucdistance_split(pre,post):\n",
    "    x_pre,y_pre,z_pre = np.array(pre.pt_position_x)*4,np.array(pre.pt_position_y)*4,np.array(pre.pt_position_z)*40\n",
    "    x_pos,y_pos,z_pos = np.array(post.pt_position_x)*4,np.array(post.pt_position_y)*4,np.array(post.pt_position_z)*40\n",
    "    d = np.zeros(len(post))\n",
    "    for i in range(len(post)):\n",
    "        # divide by 1000 to convert to microns\n",
    "        d[i] = np.sqrt((x_pre-x_pos[i])**2 + (y_pre-y_pos[i])**2 + (z_pre-z_pos[i])**2) / 1000.\n",
    "    return d\n",
    "\n",
    "def Raddistance_split(pre,post):\n",
    "    x_pre,z_pre = np.array(pre.pt_position_x)*4,np.array(pre.pt_position_z)*40\n",
    "    x_pos,z_pos = np.array(post.pt_position_x)*4,np.array(post.pt_position_z)*40\n",
    "    d = np.zeros(len(post))\n",
    "    for i in range(len(post)):\n",
    "        # divide by 1000 to convert to microns\n",
    "        d[i] = np.sqrt((x_pre-x_pos[i])**2 + (z_pre-z_pos[i])**2) / 1000.\n",
    "    return d"
   ]
  },
  {
   "cell_type": "code",
   "execution_count": null,
   "id": "53b6cd9a-4829-430b-92bb-4eed5ff13167",
   "metadata": {},
   "outputs": [],
   "source": [
    "client = CAVEclient(global_only=True)\n",
    "# https://annotationframeworkclient.readthedocs.io/en/stable/guide/authentication.html#new-token\n",
    "client = CAVEclient('minnie65_phase3_v1')\n",
    "client.info.get_datastack_info()"
   ]
  },
  {
   "cell_type": "code",
   "execution_count": null,
   "id": "0c6cee6b-fb9e-4711-8994-686246944c91",
   "metadata": {},
   "outputs": [],
   "source": [
    "#client.materialize.get_tables()"
   ]
  },
  {
   "cell_type": "code",
   "execution_count": null,
   "id": "ec7978a4-45ce-48b7-be40-d13c03415d68",
   "metadata": {},
   "outputs": [],
   "source": [
    "df = client.materialize.query_table('allen_v1_column_types_slanted',split_positions=True)\n",
    "print(len(df))\n",
    "df[0:1]"
   ]
  },
  {
   "cell_type": "code",
   "execution_count": null,
   "id": "ea971d64-1b55-42c6-9c1c-c7c1ec071f1e",
   "metadata": {},
   "outputs": [],
   "source": [
    "# start cell\n",
    "root_id = [864691135428608048]\n",
    "boy = df.query(\"pt_root_id in @root_id\")\n",
    "# post-synaptic partners of starter cell\n",
    "syn_unfiltered = client.materialize.query_table('synapses_pni_2',filter_equal_dict={'pre_pt_root_id':root_id[0]})"
   ]
  },
  {
   "cell_type": "code",
   "execution_count": null,
   "id": "e132ebc1-eeb1-4797-918c-a28aeed798ca",
   "metadata": {},
   "outputs": [],
   "source": [
    "unique_syn = np.unique(syn_unfiltered.post_pt_root_id)\n",
    "print(\"There are {0:g} synaptic connections from {1:g} cells (unfiltered for mergers).\".format(len(syn_unfiltered),len(unique_syn)))"
   ]
  },
  {
   "cell_type": "markdown",
   "id": "82e974b1-b81d-4066-9ea4-502643395fd8",
   "metadata": {},
   "source": [
    "    Now to see how many of those cells are nuclei vs glial cells..."
   ]
  },
  {
   "cell_type": "code",
   "execution_count": null,
   "id": "562bfa7f-98ac-40db-89a6-6ec6a75ce9f1",
   "metadata": {},
   "outputs": [],
   "source": [
    "correct_soma_table = client.info.get_datastack_info()['soma_table']\n",
    "nuclei_unmasked = client.materialize.query_table(correct_soma_table,split_positions=True)\n",
    "# new df of just neurons (no glial cells)\n",
    "nuclei = nuclei_unmasked.query('cell_type == \"neuron\"').reset_index(drop=True)\n",
    "# new column saying how many neurons have the same root_id\n",
    "nuclei['num_soma'] = nuclei.groupby('pt_root_id').transform('count')['valid']\n",
    "# mask the df to throw out merged nuclei (same root_id being assigned to multiple neurons)\n",
    "mask_nuclei = nuclei['num_soma'] < 2\n",
    "nuclei_full = nuclei[mask_nuclei].reset_index(drop=True)"
   ]
  },
  {
   "cell_type": "code",
   "execution_count": null,
   "id": "80b77626-2297-4268-a5de-26efe9779e5e",
   "metadata": {},
   "outputs": [],
   "source": [
    "unique_nuc = np.unique(nuclei_full.pt_root_id)\n",
    "soma_full = client.materialize.query_table('allen_soma_coarse_cell_class_model_v1',filter_in_dict = {'pt_root_id':unique_nuc},\n",
    "                                          split_positions=True)"
   ]
  },
  {
   "cell_type": "code",
   "execution_count": null,
   "id": "3672ff43-9191-44b5-9caa-2db8c6f4ff4f",
   "metadata": {},
   "outputs": [],
   "source": [
    "print(len(soma_full))\n",
    "soma_full[0:1]"
   ]
  },
  {
   "cell_type": "code",
   "execution_count": null,
   "id": "d1f81815-4bb0-4a98-a16b-8529b8982e0d",
   "metadata": {},
   "outputs": [],
   "source": [
    "syn_nuc = syn_unfiltered.query(\"post_pt_root_id in @unique_nuc\").reset_index(drop=True)"
   ]
  },
  {
   "cell_type": "code",
   "execution_count": null,
   "id": "7bf6a7ff-c86e-46cd-a992-e2cbddd57212",
   "metadata": {},
   "outputs": [],
   "source": [
    "syn_nuc['num_syn'] = syn_nuc.groupby('post_pt_root_id').transform('count')['valid']\n",
    "print(len(syn_nuc))\n",
    "syn_nuc[0:1]"
   ]
  },
  {
   "cell_type": "code",
   "execution_count": null,
   "id": "b1385c88-c49b-4b10-8cf0-97943517ef2d",
   "metadata": {},
   "outputs": [],
   "source": [
    "syn_nuc.rename(columns={'post_pt_root_id':'pt_root_id'}, inplace=True)"
   ]
  },
  {
   "cell_type": "code",
   "execution_count": null,
   "id": "94d18d0d-be95-4cd4-ba01-1aba42e8af16",
   "metadata": {},
   "outputs": [],
   "source": [
    "main_duplicates = pd.merge(soma_full,syn_nuc,on='pt_root_id',how='outer')[0:61847] # any cells after 61847 are not in the soma table\n",
    "new_left = pd.merge(soma_full,syn_nuc,on='pt_root_id',how='left')\n",
    "main = new_left.drop_duplicates(subset='pt_root_id', keep='first').reset_index(drop=True)\n",
    "# groupby('pt_root_id') ag function, list synapse positions"
   ]
  },
  {
   "cell_type": "code",
   "execution_count": null,
   "id": "55b7ca26-b3fb-4f26-b1bc-e9364a2d85fa",
   "metadata": {},
   "outputs": [],
   "source": [
    "main = main.drop(columns=['valid_y', 'pre_pt_supervoxel_id', 'post_pt_supervoxel_id', 'pre_pt_position', 'post_pt_position'])"
   ]
  },
  {
   "cell_type": "code",
   "execution_count": null,
   "id": "46990bc2-1c91-445f-a9ef-55505fde6853",
   "metadata": {},
   "outputs": [],
   "source": [
    "main['pre_pt_root_id'] = main['pre_pt_root_id'].fillna(0)\n",
    "main['num_syn'] = main['num_syn'].fillna(0)\n",
    "# might want to grab total size of all synapses for post-syn"
   ]
  },
  {
   "cell_type": "code",
   "execution_count": null,
   "id": "fcad5421-2a84-4c9c-a9f6-29e7a2a7286b",
   "metadata": {},
   "outputs": [],
   "source": [
    "#weird = [864691136311986237]\n",
    "#new_outer.query('pt_root_id in @weird')"
   ]
  },
  {
   "cell_type": "code",
   "execution_count": null,
   "id": "d42bedcc-d9c4-466b-be1b-e2863da0b4f4",
   "metadata": {},
   "outputs": [],
   "source": [
    "#good = [864691134884758266]\n",
    "#new_outer.query('pt_root_id in @good')"
   ]
  },
  {
   "cell_type": "code",
   "execution_count": null,
   "id": "bd418b8f-b5a1-4052-9a2a-14c975e2b3df",
   "metadata": {},
   "outputs": [],
   "source": [
    "main['d'] = Eucdistance_split(boy,main)\n",
    "main['r'] = Raddistance_split(boy,main)"
   ]
  },
  {
   "cell_type": "code",
   "execution_count": null,
   "id": "557ef482-811e-430c-896b-032a5ce9b850",
   "metadata": {},
   "outputs": [],
   "source": [
    "main[0:1]"
   ]
  },
  {
   "cell_type": "code",
   "execution_count": null,
   "id": "2635f99f-1fbd-4530-afab-ee3077ed37fc",
   "metadata": {},
   "outputs": [],
   "source": [
    "unique_syn_nuc = np.unique(syn_nuc.pt_root_id)\n",
    "syn = main.query('pt_root_id in @unique_syn_nuc')\n",
    "nonsyn = main.query('pt_root_id not in @unique_syn_nuc')"
   ]
  },
  {
   "cell_type": "code",
   "execution_count": null,
   "id": "b2f7b14a-ca48-44f0-a2c4-26801afa3314",
   "metadata": {},
   "outputs": [],
   "source": [
    "syn_class = class_spitter(syn)\n",
    "nonsyn_class = class_spitter(nonsyn)"
   ]
  },
  {
   "cell_type": "markdown",
   "id": "9d36d426-4559-4bcd-9670-4c007fd70576",
   "metadata": {},
   "source": [
    "# TIME TO PLOT"
   ]
  },
  {
   "cell_type": "code",
   "execution_count": null,
   "id": "de7ea250-14c9-4c2b-95c4-58e6783010cf",
   "metadata": {},
   "outputs": [],
   "source": [
    "fig, ax = plt.subplots(2,1)\n",
    "fig.set_size_inches(17,11)\n",
    "\n",
    "ax[0].hist(syn_class[0]['r'], 200, label='Synaptic Partners', density=False, alpha=1.0)\n",
    "ax[0].hist(nonsyn_class[0]['r'], 300, label='Non-Synaptic Partners', density=False, alpha=0.6)\n",
    "ax[0].set_title(\"Radial Distance to Excitatory Neurons (density=false)\", fontsize=20)\n",
    "ax[0].set_xlabel(r'$\\mu$m', fontsize=14)\n",
    "ax[0].legend()\n",
    "ax[0].grid()\n",
    "\n",
    "ax[1].hist(syn_class[1]['r'], 100, label='Synaptic Partners', density=False, alpha=1.0)\n",
    "ax[1].hist(nonsyn_class[1]['r'], 200, label='Non-Synaptic Partners', density=False, alpha=0.6)\n",
    "ax[1].set_title(\"Radial Distance to Inhibitory Neurons (density=false)\", fontsize=20)\n",
    "ax[1].set_xlabel(r'$\\mu$m', fontsize=14)\n",
    "ax[1].legend()\n",
    "ax[1].grid()\n",
    "\n",
    "ax[0].set_xlim(-10,1000)\n",
    "ax[1].set_xlim(-10,1000)\n",
    "plt.show()"
   ]
  },
  {
   "cell_type": "code",
   "execution_count": null,
   "id": "36836d81-7c65-4364-b083-f9b8c2e4aa1b",
   "metadata": {},
   "outputs": [],
   "source": [
    "fig, ax = plt.subplots(2,1)\n",
    "fig.set_size_inches(17,11)\n",
    "\n",
    "ax[0].hist(syn_class[0]['r'], 100, label='Synaptic Partners', density=True, alpha=0.6)\n",
    "ax[0].hist(nonsyn_class[0]['r'], 400, label='Non-Synaptic Partners', density=True, alpha=0.6)\n",
    "ax[0].set_title(\"Radial Distance to Excitatory Neurons (density=true)\", fontsize=20)\n",
    "ax[0].set_xlabel(r'$\\mu$m', fontsize=14)\n",
    "ax[0].legend()\n",
    "ax[0].grid()\n",
    "\n",
    "ax[1].hist(syn_class[1]['r'], 60, label='Synaptic Partners', density=True, alpha=0.6)\n",
    "ax[1].hist(nonsyn_class[1]['r'], 300, label='Non-Synaptic Partners', density=True, alpha=0.6)\n",
    "ax[1].set_title(\"Radial Distance to Inhibitory Neurons (density=true)\", fontsize=20)\n",
    "ax[1].set_xlabel(r'$\\mu$m', fontsize=14)\n",
    "ax[1].legend()\n",
    "ax[1].grid()\n",
    "\n",
    "ax[0].set_xlim(-10,1000)\n",
    "ax[1].set_xlim(-10,1000)\n",
    "plt.show()"
   ]
  },
  {
   "cell_type": "code",
   "execution_count": null,
   "id": "1f8829d1-835a-4979-8f6f-b7319265a615",
   "metadata": {},
   "outputs": [],
   "source": [
    "sns.set(rc={'figure.figsize':(20,8)})\n",
    "#weight = syn.eval(\"num_syn / 40\").rename(\"weight\")\n",
    "g = sns.scatterplot(data=syn,x='r',y='num_syn',hue='classification_system', size='size', sizes=(20, 200));\n",
    "#palette = 'deep'\n",
    "# size is not correct - take average or sum of all synaptic sizes\n",
    "g.set(xlim=(0, 250));\n",
    "g.set(ylim=(0, 20));\n",
    "g.set_title('Radial Distance vs number of synapses per soma', fontsize=18);"
   ]
  },
  {
   "cell_type": "code",
   "execution_count": null,
   "id": "a1866258-edb0-41ca-ae7b-8c5a8460858e",
   "metadata": {},
   "outputs": [],
   "source": [
    "#, binwidth=(2, .5)\n",
    "beep = sns.displot(syn, x='r', y='num_syn', cbar=True, height=6, aspect=3);\n",
    "beep.set(xlim=(0, 250));\n",
    "beep.set(ylim=(0, 20));\n",
    "beep.fig.suptitle('Radial distance vs number of synapses per soma', fontsize=16);"
   ]
  },
  {
   "cell_type": "markdown",
   "id": "d7be06ba-82a7-4fc6-a610-3f18586e78bf",
   "metadata": {},
   "source": [
    "# EXAMINING DEPTH"
   ]
  },
  {
   "cell_type": "code",
   "execution_count": null,
   "id": "1930b7a5-7f9e-4111-bf66-461627eb356f",
   "metadata": {},
   "outputs": [],
   "source": [
    "L1 = [296,400]\n",
    "L23 = [401,588]\n",
    "L4 = [589,736]\n",
    "L5 = [736,896]\n",
    "L6 = [897,1060]\n",
    "WM = [1061,1146]\n",
    "depths = np.array((L1,L23,L4,L5,L6,WM))\n",
    "depth_names = np.array(('L1','L23','L4','L5','L6','WM'))"
   ]
  },
  {
   "cell_type": "code",
   "execution_count": null,
   "id": "71fd509b-71ca-448f-af9f-0ea5a3073a22",
   "metadata": {},
   "outputs": [],
   "source": [
    "depth_syn,depth_nonsyn = [],[]\n",
    "for i in range(len(depths)):\n",
    "    m1 = syn[((syn['pt_position_y']*(4/1000)) < depths[i][1]) & ((syn['pt_position_y']*(4/1000)) > depths[i][0])].reset_index(drop=True)\n",
    "    m2 = nonsyn[((nonsyn['pt_position_y']*(4/1000)) < depths[i][1]) & ((nonsyn['pt_position_y']*(4/1000)) > depths[i][0])].reset_index(drop=True)\n",
    "    depth_syn.append(m1)\n",
    "    depth_nonsyn.append(m2)"
   ]
  },
  {
   "cell_type": "code",
   "execution_count": null,
   "id": "ceadf84f-9ff2-40d8-b69b-fb04c4f78b6f",
   "metadata": {},
   "outputs": [],
   "source": [
    "# the scraps of my failed animation... might be revived eventually...\n",
    "\n",
    "# fig, ax = plt.subplots()\n",
    "# #fig = plt.figure(figsize=(6,6))\n",
    "# #ax = plt.axes(xlim=(500, 900), ylim=(700, 1100))\n",
    "# fig.set_size_inches(6,6)\n",
    "\n",
    "# def init(): \n",
    "#     xsyn,ysyn=depth_syn[0].pt_position_x*(4/1000),depth_syn[0].pt_position_z*(40/1000) \n",
    "#     xnon,ynon=depth_nonsyn[0].pt_position_x*(4/1000),depth_nonsyn[0].pt_position_z*(40/1000) \n",
    "#     scatsyn = sns.scatterplot(xsyn,ysyn,c='blue',alpha=.8)\n",
    "#     scatnon = sns.scatterplot(xnon,ynon,alpha=.4)\n",
    "#     return scatnon,scatsyn\n",
    "\n",
    "# def animate(i):       \n",
    "#     xsyn,ysyn=depth_syn[i].pt_position_x*(4/1000),depth_syn[i].pt_position_z*(40/1000) \n",
    "#     xnon,ynon=depth_nonsyn[i].pt_position_x*(4/1000),depth_nonsyn[i].pt_position_z*(40/1000) \n",
    "#     scatsyn = ax.scatter(xsyn,ysyn,c='blue',alpha=.8,s=200)\n",
    "#     scatnon = ax.scatter(xnon,ynon,c='grey',alpha=.4,s=200)\n",
    "#     print(i)\n",
    "#     return scatnon,scatsyn\n",
    "\n",
    "# animation.FuncAnimation(fig=fig, func=animate, frames=5, interval=800);\n",
    "#plt.show()\n",
    "\n",
    "\n",
    "# ax.set(xlim=(-3, 3), ylim=(-1, 1))\n",
    "# scat = ax.scatter(x[::3], F[0, ::3])\n",
    " \n",
    "# def animate(i):\n",
    "#     y_i = F[i, ::3]\n",
    "#     scat.set_offsets(np.c_[x[::3], y_i])\n",
    "\n",
    "#Note the set_offsets must be passed an N×2 array. \n",
    "#Here we use np.c_[] for this purpose. \n",
    "#The use of [::3] reduces the density of scatter points."
   ]
  },
  {
   "cell_type": "code",
   "execution_count": null,
   "id": "8523d618-469c-4572-bd86-64ad63d2deb1",
   "metadata": {},
   "outputs": [],
   "source": [
    "fig, ax = plt.subplots(2,3)\n",
    "fig.set_size_inches(12,8)\n",
    "\n",
    "#weight = syn.eval(\"num_syn / 40\").rename(\"weight\")\n",
    "for i in range(len(depths)):\n",
    "    if i < 3:\n",
    "        sns.scatterplot(data=depth_nonsyn[i], x=depth_nonsyn[i].pt_position_x*(4/1000), y=depth_nonsyn[i].pt_position_z*(40/1000),\n",
    "                       ax=ax[0,i], color='grey', style = 'classification_system', alpha=.4, legend= False).set_ylabel(r'$\\mu$m (z)')\n",
    "        sns.scatterplot(data=depth_syn[i], x=depth_syn[i].pt_position_x*(4/1000), y=depth_syn[i].pt_position_z*(40/1000),\n",
    "                       ax=ax[0,i], color='b', style = 'classification_system', alpha=1., legend= False).set_xlabel(r'$\\mu$m (x)')\n",
    "        sns.scatterplot(x=boy.pt_position_x*(4/1000), y=boy.pt_position_z*(40/1000), marker='*',color='r',s=200,\n",
    "                        ax=ax[0,1], legend= False).set_ylabel(r'$\\mu$m')\n",
    "        xrange = [int(boy.pt_position_x*(4/1000))-250,int(boy.pt_position_x*(4/1000))+250]\n",
    "        yrange = [int(boy.pt_position_z*(40/1000))-250,int(boy.pt_position_z*(40/1000))+250]\n",
    "        ax[0,i].set_xlim(xrange[0],xrange[1])\n",
    "        ax[0,i].set_ylim(yrange[0],yrange[1])\n",
    "        ax[0,i].set_title(depth_names[i],fontsize=16)\n",
    "        ax[0,i].set_aspect('equal')\n",
    "    else:\n",
    "        sns.scatterplot(data=depth_nonsyn[i], x=depth_nonsyn[i].pt_position_x*(4/1000), y=depth_nonsyn[i].pt_position_z*(40/1000),\n",
    "                       ax=ax[1,i-3], color='grey', style = 'classification_system', alpha=.4, legend= False).set_ylabel(r'$\\mu$m (z)')\n",
    "        sns.scatterplot(data=depth_syn[i], x=depth_syn[i].pt_position_x*(4/1000), y=depth_syn[i].pt_position_z*(40/1000),\n",
    "                       ax=ax[1,i-3], color='b', style = 'classification_system', alpha=1., legend= False).set_xlabel(r'$\\mu$m (x)')\n",
    "        #sns.scatterplot(x=boy.pt_position_x*(4/1000), y=boy.pt_position_z*(40/1000), marker='*',color='r',s=200,\n",
    "                        #ax=ax[1,i-3]).set_ylabel(r'$\\mu$m')\n",
    "        xrange = [int(boy.pt_position_x*(4/1000))-250,int(boy.pt_position_x*(4/1000))+250]\n",
    "        yrange = [int(boy.pt_position_z*(40/1000))-250,int(boy.pt_position_z*(40/1000))+250]\n",
    "        ax[1,i-3].set_xlim(xrange[0],xrange[1])\n",
    "        ax[1,i-3].set_ylim(yrange[0],yrange[1])\n",
    "        ax[1,i-3].set_title(depth_names[i],fontsize=16)\n",
    "        ax[1,i-3].set_aspect('equal')\n",
    "fig.tight_layout()"
   ]
  },
  {
   "cell_type": "code",
   "execution_count": null,
   "id": "2bb5dc04-6c7c-4bd4-82d1-3639afbc1144",
   "metadata": {},
   "outputs": [],
   "source": [
    "#yvsr = sns.displot(x=syn.r, y=syn.pt_position_y*(4/1000), cbar=True, height=6, aspect=.9);\n",
    "#yvsr.fig.suptitle('Radial distance vs depth of target soma', fontsize=16);"
   ]
  },
  {
   "cell_type": "code",
   "execution_count": null,
   "id": "df5f6907-c555-4725-be0b-b09c0f9d8ba5",
   "metadata": {},
   "outputs": [],
   "source": [
    "sns.set_theme(style=\"ticks\")\n",
    "yvsr = sns.jointplot(x=syn.r, \n",
    "              y=syn.pt_position_y*(4/1000), \n",
    "              kind='hex',color=\"#4CB391\", height=6)\n",
    "yvsr.fig.suptitle('Radial distance vs depth of target soma', fontsize=14);\n",
    "fig.tight_layout()"
   ]
  },
  {
   "cell_type": "code",
   "execution_count": null,
   "id": "682c2a91-c685-4461-bccd-c71e43b69f51",
   "metadata": {},
   "outputs": [],
   "source": [
    "sns.set_theme(style=\"ticks\")\n",
    "\n",
    "bap = sns.jointplot(x=syn.pt_position_x*(4/1000), \n",
    "              y=syn.pt_position_z*(40/1000), \n",
    "              kind='hex',color=\"#4CB391\", height=6)#, marginal_kws=dict(bins=35, fill=False))\n",
    "\n",
    "sns.scatterplot(x=boy.pt_position_x*(4/1000),\n",
    "               y=boy.pt_position_z*(40/1000),\n",
    "               marker='*',color='r',s=300)#.set_title(\"Position of Target Somas\", fontsize=16)\n",
    "bap.fig.suptitle(\"Position of Target Somas\", fontsize=16)\n",
    "fig.tight_layout()"
   ]
  },
  {
   "cell_type": "code",
   "execution_count": null,
   "id": "ab5ef6f8-b3d5-4b36-9d2c-8b2b49fb93af",
   "metadata": {},
   "outputs": [],
   "source": [
    "#sns.set(rc={'figure.figsize':(20,8)})\n",
    "#fig, (ax1, ax2) = plt.subplots(ncols=2, sharey=True)\n",
    "#plt.hisplot(syn_class[1], x=\"r\", hue=\"cell_type\", element=\"step\", ax=ax1, height=7, aspect=2)\n",
    "#plt.hisplot(syn_class[0], x=\"r\", hue=\"cell_type\", element=\"step\", ax=ax2, height=7, aspect=2)\n",
    "#g.fig.suptitle('Radial Distance of Excitatory Post-Synaptic Partners, Categorized by Cell Type', fontsize=16);\n",
    "#g.fig.suptitle('Radial Distance of Inhibitory Post-Synaptic Partners, Categorized by Cell Type', fontsize=16);\n",
    "#g.set(xlim=(0, 400));\n",
    "\n",
    "fig, axs = plt.subplots(2, 2, figsize=(20, 14))\n",
    "\n",
    "sns.histplot(data=syn_class[0], x=\"r\", hue='cell_type', element='step', ax=axs[0,0]).set(xlim=(0,400));\n",
    "sns.histplot(data=syn_class[1], x=\"r\", hue='cell_type', element='step', ax=axs[0,1]).set(xlim=(0,400));\n",
    "sns.histplot(data=nonsyn_class[0], x=\"r\", hue='cell_type', element='step', ax=axs[1,0]).set(xlim=(0,400));\n",
    "sns.histplot(data=nonsyn_class[1], x=\"r\", hue='cell_type', element='step', ax=axs[1,1]).set(xlim=(0,400));"
   ]
  },
  {
   "cell_type": "code",
   "execution_count": null,
   "id": "a1bf11a7-a98e-4c60-8a51-d7487cbb6780",
   "metadata": {},
   "outputs": [],
   "source": [
    "import plotly_express as px\n",
    "\n",
    "x = syn['pt_position_x'] * (4/1000)\n",
    "y = syn['pt_position_y'] * (4/1000)\n",
    "z = syn['pt_position_z'] * (40/1000)\n",
    "\n",
    "bep = px.scatter_3d(syn, x=x, y=y, z=z,\n",
    "              color='classification_system', size='num_syn')\n",
    "#px.scatter_3d(boy,x=boy.pt_position_x/4,y=boy.pt_position_y/4,z=boy.pt_position_z/40,symbol='pt_root_id')\n",
    "bep.show()"
   ]
  },
  {
   "cell_type": "code",
   "execution_count": null,
   "id": "7525f17b-042a-4633-b25c-9fe17c9071a4",
   "metadata": {},
   "outputs": [],
   "source": [
    "x_main = main['pt_position_x'] * (4/1000)\n",
    "y_main = main['pt_position_y'] * (4/1000)\n",
    "z_main = main['pt_position_z'] * (40/1000)\n",
    "\n",
    "g = px.scatter_3d(main, x=x_main, y=y_main, z=z_main,\n",
    "              color='pre_pt_root_id', opacity=.1, range_color = [0,1], size=np.ones(len(main)))\n",
    "\n",
    "#g.show()"
   ]
  },
  {
   "cell_type": "code",
   "execution_count": null,
   "id": "e6325664-33fe-450c-8f2d-3f1e61627376",
   "metadata": {},
   "outputs": [],
   "source": []
  },
  {
   "cell_type": "code",
   "execution_count": null,
   "id": "acfcfae1-5ea2-41ef-a474-8584d055b78f",
   "metadata": {},
   "outputs": [],
   "source": []
  },
  {
   "cell_type": "code",
   "execution_count": null,
   "id": "a51385f3-56e3-46cc-bc9c-15aec3eab271",
   "metadata": {},
   "outputs": [],
   "source": []
  },
  {
   "cell_type": "code",
   "execution_count": null,
   "id": "3d1f7a7b-8c7c-46c7-b9c6-2c55043409f0",
   "metadata": {},
   "outputs": [],
   "source": []
  },
  {
   "cell_type": "code",
   "execution_count": null,
   "id": "6d948193-83d7-46ea-99f3-bcfc1e9efa6e",
   "metadata": {},
   "outputs": [],
   "source": []
  }
 ],
 "metadata": {
  "kernelspec": {
   "display_name": "Python 3 (ipykernel)",
   "language": "python",
   "name": "python3"
  },
  "language_info": {
   "codemirror_mode": {
    "name": "ipython",
    "version": 3
   },
   "file_extension": ".py",
   "mimetype": "text/x-python",
   "name": "python",
   "nbconvert_exporter": "python",
   "pygments_lexer": "ipython3",
   "version": "3.8.10"
  }
 },
 "nbformat": 4,
 "nbformat_minor": 5
}
