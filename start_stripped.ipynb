{
 "cells": [
  {
   "cell_type": "code",
   "execution_count": null,
   "id": "317512b7",
   "metadata": {},
   "outputs": [],
   "source": [
    "from caveclient import CAVEclient\n",
    "import pandas as pd\n",
    "import numpy as np\n",
    "from matplotlib import pyplot as plt\n",
    "%matplotlib inline"
   ]
  },
  {
   "cell_type": "code",
   "execution_count": null,
   "id": "d7c87d81",
   "metadata": {},
   "outputs": [],
   "source": [
    "client = CAVEclient(global_only=True)"
   ]
  },
  {
   "cell_type": "code",
   "execution_count": null,
   "id": "be390764",
   "metadata": {},
   "outputs": [],
   "source": [
    "# https://annotationframeworkclient.readthedocs.io/en/stable/guide/authentication.html#new-token\n",
    "client = CAVEclient('minnie65_phase3_v1')\n",
    "client.info.get_datastack_info()"
   ]
  },
  {
   "cell_type": "code",
   "execution_count": null,
   "id": "dc911e14",
   "metadata": {},
   "outputs": [],
   "source": [
    "#client.auth.get_new_token()"
   ]
  },
  {
   "cell_type": "code",
   "execution_count": null,
   "id": "a569facd",
   "metadata": {},
   "outputs": [],
   "source": [
    "# secret file - .cloud? pls don't regenerate\n",
    "#client.auth.save_token(token=\"cbf0c535f12057f40e895d1d04dcf79e\",overwrite=True)"
   ]
  },
  {
   "cell_type": "code",
   "execution_count": null,
   "id": "51e7b995",
   "metadata": {},
   "outputs": [],
   "source": [
    "client.materialize.get_tables()"
   ]
  },
  {
   "cell_type": "markdown",
   "id": "d41afbf4-b4c8-49d0-8262-5fe5019f6cd6",
   "metadata": {},
   "source": [
    "    - allen_v1_column_types_slanted have been manually examined for cell type\n",
    "\n",
    "    - synapses_pni_2 is a table of the locations of a target cell's synapse according to its input cell\n",
    "\n",
    "    - allen_soma_coarse_cell_class_model_v1 and v2 is 99% pre-proofread and has the location of all cell bodies in the dataset - difference is that v1 has specific cell types, while v2 is just excitatory/inhibitory\n",
    "\n",
    "    - nucleus_neuron_svm is a table where each row represents a soma\n",
    "\n",
    "    positions can be copied n pasted into neuroglancer!"
   ]
  },
  {
   "cell_type": "code",
   "execution_count": null,
   "id": "12b2b77c",
   "metadata": {},
   "outputs": [],
   "source": [
    "#materialization engine - v120 most recent - 1 exact timestamp\n",
    "df = client.materialize.query_table('allen_v1_column_types_slanted')\n",
    "df[0:3]"
   ]
  },
  {
   "cell_type": "code",
   "execution_count": null,
   "id": "6ac16491",
   "metadata": {},
   "outputs": [],
   "source": [
    "np.unique(df.classification_system)"
   ]
  },
  {
   "cell_type": "markdown",
   "id": "1204d0e4-3455-4e22-a021-1fa073fa8402",
   "metadata": {},
   "source": [
    "### Cell type key:\n",
    "\n",
    "    Number refers to layer, P refers to pyramidal (broadly), IT = intertelencephalon\n",
    "\n",
    "output cells =\n",
    "- NP = near-projecting (spooky) (spider) (im scared)\n",
    "- PT = pyramidal tract\n",
    "- CT = cortico-thalamic, projects to the thalamus (sensory->thalamus->cortex->loops)\n",
    "- BC = basket-cell (primarily target the cell body of excitatory neurons), strategically positioned to control spiking and strongly interconnected\n",
    "- BPC = bipolar cell (VIP = molecular term, dendrites goin up n down) (controls SST) (only some target E), 15% of all interneurons, gain control\n",
    "- MC = Martinotti (SST = molec term) (primary source of inhib.) targetting distill dendrites & apocal dend., powerful boys, project to layer 1 mediate di-synaptic inhibition between neighboring pyramidal cells\n",
    "- NGC = neurogliaform cell (instead of pre/post-synaptic, they do volume transmission) spewing GABA, no specific target, (meh categorization)"
   ]
  },
  {
   "cell_type": "code",
   "execution_count": null,
   "id": "588e35c1-d838-47fe-a9d7-c75ee117c17e",
   "metadata": {},
   "outputs": [],
   "source": [
    "np.unique(df.cell_type)"
   ]
  },
  {
   "cell_type": "markdown",
   "id": "0b28891f-4442-41cf-9167-f190dce8f7fc",
   "metadata": {},
   "source": [
    "## Working with a Starter Neuron\n",
    "\n",
    "    We'll be using a basket cell, as they are well-proofread with a large axon."
   ]
  },
  {
   "cell_type": "code",
   "execution_count": null,
   "id": "69e8c9ed",
   "metadata": {},
   "outputs": [],
   "source": [
    "root_id = [864691135428608048]\n",
    "boy = df.query(\"pt_root_id in @root_id\")\n",
    "boy"
   ]
  },
  {
   "cell_type": "markdown",
   "id": "01a2c6db-2f4d-4250-91e3-3d3107e3d2cc",
   "metadata": {},
   "source": [
    "    Now to look for all cells where the pre-synaptic partner has the same root_id as our start cell..."
   ]
  },
  {
   "cell_type": "code",
   "execution_count": null,
   "id": "77cda198",
   "metadata": {},
   "outputs": [],
   "source": [
    "syn = client.materialize.query_table('synapses_pni_2',filter_equal_dict={'pre_pt_root_id':root_id[0]})\n",
    "#client.materialize.query_table?\n",
    "syn[0:3]"
   ]
  },
  {
   "cell_type": "markdown",
   "id": "a56c30d7-3ab2-407b-b619-647d31b0b134",
   "metadata": {},
   "source": [
    "#### synapses table key:\n",
    "\n",
    "- pre_pt_root_id = pre-synaptic (input cell) we selected for\n",
    "- post_pt_root_id = post-synaptic cell that the queried cell connects to\n",
    "- size = volume of synapse in units of supervoxels (most of the time is proportional to strength/weight)\n",
    "\n",
    "#### synapse has 3 pts associated: \n",
    "- 1 just inside the pre-syn side of synapse (on dendrites)\n",
    "- 1 is just inside the post-syn\n",
    "- 1 is center point"
   ]
  },
  {
   "cell_type": "code",
   "execution_count": null,
   "id": "7d9572a6",
   "metadata": {},
   "outputs": [],
   "source": [
    "post_syn = np.unique(syn.post_pt_root_id)\n",
    "print(\"There are {0:g} unique post-synaptic connections.\".format(len(post_syn)))"
   ]
  },
  {
   "cell_type": "markdown",
   "id": "2526aa38-4e9b-4f5b-9d1c-0476f6c7835e",
   "metadata": {},
   "source": [
    "    Now we're going to query two different tables, so that we have access to the position of the somas whose dendrites have the post-synaptic connections we just found. The first & second tables aren't proofread; the third is."
   ]
  },
  {
   "cell_type": "code",
   "execution_count": null,
   "id": "8c7b8809",
   "metadata": {},
   "outputs": [],
   "source": [
    "somas = client.materialize.query_table('allen_soma_coarse_cell_class_model_v1',filter_in_dict = {'pt_root_id':post_syn})\n",
    "nuclei = client.materialize.query_table('nucleus_neuron_svm',filter_in_dict = {'pt_root_id':post_syn})\n",
    "# not many will be in here bc of proofreading stuff\n",
    "post_slant = client.materialize.query_table('allen_v1_column_types_slanted',filter_in_dict = {'pt_root_id':post_syn})"
   ]
  },
  {
   "cell_type": "code",
   "execution_count": null,
   "id": "c97d0bba-093f-45e6-a637-ee6d9d98e3bd",
   "metadata": {},
   "outputs": [],
   "source": [
    "print(\"There are {0:g} somas in the table but only {1:g} post-synaptic cells.\".format(len(somas),len(post_syn)))\n",
    "print(len(nuclei))"
   ]
  },
  {
   "cell_type": "code",
   "execution_count": null,
   "id": "85709936-b29c-4113-b1b8-f80719f5b345",
   "metadata": {},
   "outputs": [],
   "source": [
    "# checking for merge errors...\n",
    "nuclei['num_soma'] = nuclei.groupby('pt_root_id').transform('count')['valid']\n",
    "somas['num_soma'] = somas.groupby('pt_root_id').transform('count')['valid']\n",
    "mask_somas = somas['num_soma'] < 2\n",
    "mask_nuclei = nuclei['num_soma'] < 2"
   ]
  },
  {
   "cell_type": "code",
   "execution_count": null,
   "id": "4bccd076-dc40-4723-8ff5-e53659b0f2db",
   "metadata": {},
   "outputs": [],
   "source": [
    "post_somas = somas[mask_somas].reset_index(drop=True)\n",
    "nonmerged_nuclei = nuclei[mask_nuclei].reset_index(drop=True)\n",
    "print(\"Now only {0:g} somas remain after removing the root id's that appeared >2\".format(len(post_somas)))\n",
    "print(len(nonmerged_nuclei))"
   ]
  },
  {
   "cell_type": "code",
   "execution_count": null,
   "id": "d3f6fd11-e369-4bd6-a4cc-6fe723cf9834",
   "metadata": {},
   "outputs": [],
   "source": [
    "# need to query another table that actually has cell types\n",
    "unique_nuclei = np.unique(nonmerged_nuclei.pt_root_id)\n",
    "post_nuclei = client.materialize.query_table('allen_soma_coarse_cell_class_model_v1',filter_in_dict = {'pt_root_id':unique_nuclei})\n",
    "len(post_nuclei)"
   ]
  },
  {
   "cell_type": "code",
   "execution_count": null,
   "id": "7854340f-99b5-4032-a3d9-3efc41f94837",
   "metadata": {},
   "outputs": [],
   "source": [
    "def class_spitter(df):\n",
    "    classes = np.unique(df.classification_system)\n",
    "    cellarray = []\n",
    "    for i in range(len(classes)):\n",
    "        new = df.query(f\"classification_system in @classes[{i}]\")\n",
    "        cellarray.append(new)\n",
    "    return cellarray\n",
    "\n",
    "def type_spitter(df):\n",
    "    types = np.unique(df.cell_type)\n",
    "    cellarray = []\n",
    "    for i in range(len(types)):\n",
    "        new = df.query(f\"cell_type in @types[{i}]\")\n",
    "        cellarray.append(new)\n",
    "    return cellarray"
   ]
  },
  {
   "cell_type": "code",
   "execution_count": null,
   "id": "bdadd687-d57b-478a-8c02-f3fe02764a3d",
   "metadata": {},
   "outputs": [],
   "source": [
    "post_slant_class = class_spitter(post_slant)\n",
    "post_som_class = class_spitter(post_somas)\n",
    "post_nuc_class = class_spitter(post_nuclei)\n",
    "\n",
    "post_slant_type = type_spitter(post_slant)\n",
    "post_som_type = type_spitter(post_somas)\n",
    "post_nuc_type = type_spitter(post_nuclei)"
   ]
  },
  {
   "cell_type": "markdown",
   "id": "93795888-46a8-48b8-a8f8-ce93dfa7df86",
   "metadata": {},
   "source": [
    "    \"Distance in the y dimension (depth) is quite different from x and z (radial directions). For example, cell types often live specifically at a particular depth, but are scattered widely across the x and z dimensions.\""
   ]
  },
  {
   "cell_type": "code",
   "execution_count": null,
   "id": "07108c2d-ab02-4d7a-afad-88fbe13178ae",
   "metadata": {},
   "outputs": [],
   "source": [
    "def Eucdistance(pre,post):\n",
    "    pre_pt = np.array(pre.pt_position) * 4\n",
    "    x_pre,y_pre,z_pre = pre_pt[0][0],pre_pt[0][1],pre_pt[0][2]*10\n",
    "\n",
    "    post_pt = post.pt_position.reset_index(drop=True)\n",
    "    x_pos,y_pos,z_pos = np.zeros(len(post_pt)),np.zeros(len(post_pt)),np.zeros(len(post_pt))\n",
    "    for i in range(len(post_pt)):\n",
    "        x_pos[i] = post_pt[i][0] * 4\n",
    "        y_pos[i] = post_pt[i][1] * 4\n",
    "        z_pos[i] = post_pt[i][2] * 40\n",
    "    \n",
    "    d = np.zeros(len(post_pt))\n",
    "    for i in range(len(post_pt)):\n",
    "        d[i] = np.sqrt((x_pre-x_pos[i])**2 + (y_pre-y_pos[i])**2 + (z_pre-z_pos[i])**2)\n",
    "    \n",
    "    return d\n",
    "\n",
    "def Raddistance(pre,post):\n",
    "    pre_pt = np.array(pre.pt_position) * 4\n",
    "    x_pre,z_pre = pre_pt[0][0],pre_pt[0][2]*10\n",
    "\n",
    "    post_pt = post.pt_position.reset_index(drop=True)\n",
    "    x_pos,z_pos = np.zeros(len(post_pt)),np.zeros(len(post_pt))\n",
    "    for i in range(len(post_pt)):\n",
    "        x_pos[i] = post_pt[i][0] * 4\n",
    "        z_pos[i] = post_pt[i][2] * 40\n",
    "    \n",
    "    d = np.zeros(len(post_pt))\n",
    "    for i in range(len(post_pt)):\n",
    "        d[i] = np.sqrt((x_pre-x_pos[i])**2 + (z_pre-z_pos[i])**2)\n",
    "    \n",
    "    return d\n",
    "\n",
    "def distance(pre,post):\n",
    "    d,r = [],[]\n",
    "    for i in range(len(post)):\n",
    "        # divide by 1,000 to convert nm to microns\n",
    "        d_oneclass = Eucdistance(pre,post[i])/1000.\n",
    "        d.append(d_oneclass)\n",
    "        r_oneclass = Raddistance(pre,post[i])/1000.\n",
    "        r.append(r_oneclass)\n",
    "    return d,r"
   ]
  },
  {
   "cell_type": "code",
   "execution_count": null,
   "id": "1d8f20f7-0354-4d27-84ad-15076adf325b",
   "metadata": {},
   "outputs": [],
   "source": [
    "slant_d_class,slant_r_class = distance(boy,post_slant_class)\n",
    "som_d_class,som_r_class = distance(boy,post_som_class)\n",
    "nuc_d_class,nuc_r_class = distance(boy,post_nuc_class)\n",
    "\n",
    "slant_d_type,slant_r_type = distance(boy,post_slant_type)\n",
    "som_d_type,som_r_type = distance(boy,post_som_type)\n",
    "nuc_d_type,nuc_r_type = distance(boy,post_nuc_type)"
   ]
  },
  {
   "cell_type": "code",
   "execution_count": null,
   "id": "38abc08e-7926-4d9c-8234-e20556825b61",
   "metadata": {},
   "outputs": [],
   "source": [
    "total = len(slant_d_class[0])+len(slant_d_class[1])+len(slant_d_class[2])\n",
    "print(\"{0:.2%} of proofread post-synaptic partners are excitatory,\".format(len(slant_d_class[0])/total))\n",
    "print(\"{0:.2%} are inhibitory,\".format(len(slant_d_class[1])/total))\n",
    "print(\"{0:.2%} are unknown.\\n\".format(len(slant_d_class[2])/total))\n",
    "\n",
    "total_som = len(som_d_class[0])+len(som_d_class[1])\n",
    "print(\"{0:.2%} of un-proofread post-synaptic partners are excitatory,\".format(len(som_d_class[0])/total_som))\n",
    "print(\"{0:.2%} are inhibitory. (from soma table)\\n\".format(len(som_d_class[1])/total_som))\n",
    "\n",
    "total_nuc = len(nuc_d_class[0])+len(nuc_d_class[1])\n",
    "print(\"{0:.2%} of un-proofread post-synaptic partners are excitatory,\".format(len(nuc_d_class[0])/total_nuc))\n",
    "print(\"{0:.2%} are inhibitory. (from nucleus table)\".format(len(nuc_d_class[1])/total_nuc))"
   ]
  },
  {
   "cell_type": "code",
   "execution_count": null,
   "id": "9a93c709-1864-4b88-9cf9-adb3ef7bb3c7",
   "metadata": {},
   "outputs": [],
   "source": [
    "fig, ax = plt.subplots(2,1)\n",
    "fig.set_size_inches(18,10)\n",
    "\n",
    "ax[0].hist(slant_d_class[0], 200, density=False, label='Excitatory', alpha=.7)\n",
    "ax[0].hist(slant_d_class[1], 100, density=False, label='Inhibitory', alpha=.7)\n",
    "ax[0].set_title(\"Euclidean Distance to Post-Synaptic Partners (Proofread)\", fontsize=16)\n",
    "ax[0].set_xlabel(r'$\\mu$m', fontsize=12)\n",
    "ax[0].legend()\n",
    "ax[0].grid()\n",
    "\n",
    "ax[1].hist(slant_r_class[0], 40, density=False, label='Excitatory', alpha=.7)\n",
    "ax[1].hist(slant_r_class[1], 20, density=False, label='Inhibitory', alpha=.7)\n",
    "ax[1].set_title(\"Radial Distance to Post-Synaptic Partners (Proofread)\", fontsize=16)\n",
    "ax[1].set_xlabel(r'$\\mu$m', fontsize=12)\n",
    "ax[1].legend()\n",
    "ax[1].grid()\n",
    "\n",
    "#ax[1].set_ylabel(\"Log Frequency\", fontsize=16)\n",
    "#ax[1].set_yscale('log')\n",
    "\n",
    "ax[0].set_xlim(-10,600)\n",
    "ax[1].set_xlim(-10,600)\n",
    "plt.show()"
   ]
  },
  {
   "cell_type": "code",
   "execution_count": null,
   "id": "042f3786-6fba-40c5-8651-4172cb923538",
   "metadata": {},
   "outputs": [],
   "source": [
    "fig, ax = plt.subplots(2,1)\n",
    "fig.set_size_inches(18,10)\n",
    "\n",
    "ax[0].hist(nuc_d_class[0], 300, label='Euclidean Distance', density=True, alpha=0.6)\n",
    "ax[0].hist(nuc_r_class[0], 200, label='Radial Distance', density=True, alpha=0.6)\n",
    "ax[0].set_title(\"Distance to Excitatory Post-Synaptic Partners (Un-Proofread)\", fontsize=20)\n",
    "ax[0].set_xlabel(r'$\\mu$m', fontsize=14)\n",
    "ax[0].legend()\n",
    "ax[0].grid()\n",
    "\n",
    "ax[1].hist(nuc_d_class[1], 200, label='Euchlidean Distance', density=True, alpha=0.6)\n",
    "ax[1].hist(nuc_r_class[1], 100, label='Radial Distance', density=True, alpha=0.6)\n",
    "ax[1].set_title(\"Distance to Inhibitory Post-Synaptic Partners (Un-Proofread)\", fontsize=20)\n",
    "ax[1].set_xlabel(r'$\\mu$m', fontsize=14)\n",
    "ax[1].legend()\n",
    "ax[1].grid()\n",
    "\n",
    "\n",
    "#ax.set_ylabel(\"Log Frequency\", fontsize=16)\n",
    "#plt.yscale('log')\n",
    "\n",
    "ax[0].set_xlim(-10,600)\n",
    "ax[1].set_xlim(-10,600)\n",
    "plt.show()"
   ]
  },
  {
   "cell_type": "code",
   "execution_count": null,
   "id": "95e5b47b-ccfb-4503-bb6b-a12fa5b9f6d2",
   "metadata": {},
   "outputs": [],
   "source": [
    "fig, ax = plt.subplots(5,2)\n",
    "fig.set_size_inches(23,18)\n",
    "\n",
    "nuc_types = np.unique(post_nuclei.cell_type)\n",
    "for i in range(10):\n",
    "    if i < 5:\n",
    "        ax[i,0].hist(nuc_d_type[i],bins=int(np.ceil(len(nuc_d_type[i])/5)),density=True,label='Euclidean Distance',alpha=0.6);\n",
    "        ax[i,0].hist(nuc_r_type[i],bins=int(np.ceil(len(nuc_r_type[i])/5)),density=True,label='Radial Distance',alpha=0.6);\n",
    "        ax[i,0].set_title(nuc_types[i],fontsize=18)\n",
    "        ax[i,0].grid()\n",
    "        ax[i,0].legend()\n",
    "        ax[i,0].set_xlim(-10,600)\n",
    "    if 5 <= i < 10:\n",
    "        ax[i-5,1].hist(nuc_d_type[i],bins=int(np.ceil(len(nuc_d_type[i])/5)),density=True,label='Euchlidean Distance',alpha=0.6);\n",
    "        ax[i-5,1].hist(nuc_r_type[i],bins=int(np.ceil(len(nuc_r_type[i])/5)),density=True,label='Radial Distance',alpha=0.6);\n",
    "        ax[i-5,1].set_title(nuc_types[i],fontsize=18)\n",
    "        ax[i-5,1].grid()\n",
    "        ax[i-5,1].legend()\n",
    "        ax[i-5,1].set_xlim(-10,600)\n",
    "\n",
    "fig.tight_layout()\n",
    "plt.show()"
   ]
  },
  {
   "cell_type": "code",
   "execution_count": null,
   "id": "6f3d8a92-b019-464d-a6b2-daa975aff320",
   "metadata": {},
   "outputs": [],
   "source": []
  },
  {
   "cell_type": "code",
   "execution_count": null,
   "id": "4e278aaa-d1ce-41e1-98a2-0b638f44770d",
   "metadata": {},
   "outputs": [],
   "source": []
  }
 ],
 "metadata": {
  "kernelspec": {
   "display_name": "Python 3",
   "language": "python",
   "name": "python3"
  },
  "language_info": {
   "codemirror_mode": {
    "name": "ipython",
    "version": 3
   },
   "file_extension": ".py",
   "mimetype": "text/x-python",
   "name": "python",
   "nbconvert_exporter": "python",
   "pygments_lexer": "ipython3",
   "version": "3.8.10"
  }
 },
 "nbformat": 4,
 "nbformat_minor": 5
}
